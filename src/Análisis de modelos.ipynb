{
 "cells": [
  {
   "cell_type": "code",
   "execution_count": 1,
   "metadata": {},
   "outputs": [],
   "source": [
    "# Import the required packages\n",
    "import os\n",
    "\n",
    "import numpy as np\n",
    "import pandas as pd\n",
    "import matplotlib.pyplot as plt\n",
    "\n",
    "from sklearn.pipeline import Pipeline\n",
    "from sklearn.compose import ColumnTransformer\n",
    "from sklearn.compose import make_column_transformer\n",
    "from sklearn.metrics import classification_report\n",
    "from sklearn.model_selection import GridSearchCV, train_test_split\n",
    "from sklearn.preprocessing import KBinsDiscretizer, OneHotEncoder, StandardScaler, MinMaxScaler\n",
    "from sklearn.tree import DecisionTreeClassifier\n",
    "from sklearn.linear_model import LogisticRegression, SGDClassifier\n",
    "from sklearn.naive_bayes import BernoulliNB\n",
    "from sklearn.svm import SVC\n",
    "from sklearn.ensemble import RandomForestClassifier\n",
    "from sklearn.neighbors import KNeighborsClassifier\n",
    "import xgboost as xgb"
   ]
  },
  {
   "cell_type": "markdown",
   "metadata": {},
   "source": [
    "### Análisis general de distintos modelos"
   ]
  },
  {
   "cell_type": "code",
   "execution_count": null,
   "metadata": {},
   "outputs": [],
   "source": [
    "#pip install pycaret"
   ]
  },
  {
   "cell_type": "code",
   "execution_count": 2,
   "metadata": {},
   "outputs": [],
   "source": [
    "import pycaret.classification"
   ]
  },
  {
   "cell_type": "code",
   "execution_count": 2,
   "metadata": {},
   "outputs": [],
   "source": [
    "# De esta forma podemos realizar custom transformer\n",
    "# Todas las transformaciones deberían tener su propio transformer\n",
    "\n",
    "class SelectColumnsTransformer():\n",
    "    def __init__(self, columns=None):\n",
    "        self.columns = columns\n",
    "\n",
    "    def transform(self, X, **transform_params):\n",
    "        cpy_df = X[self.columns].copy()\n",
    "        return cpy_df\n",
    "\n",
    "    def fit(self, X, y=None, **fit_params):\n",
    "        return self"
   ]
  },
  {
   "cell_type": "code",
   "execution_count": 3,
   "metadata": {},
   "outputs": [],
   "source": [
    "train_df = pd.read_csv(\"../data/travel_insurance_prediction_train.csv\")\n",
    "test_df = pd.read_csv(\"../data/travel_insurance_prediction_test.csv\")"
   ]
  },
  {
   "cell_type": "markdown",
   "metadata": {},
   "source": [
    "Explorar preliminarmente todos los modelos de clasificación posibles, para hacer un primer descarte. Tomando parámetros por default."
   ]
  },
  {
   "cell_type": "code",
   "execution_count": 4,
   "metadata": {},
   "outputs": [
    {
     "data": {
      "text/html": [
       "<style  type=\"text/css\" >\n",
       "#T_51dcacbd_034b_11ec_81ed_9457a5d83a5brow44_col1{\n",
       "            background-color:  lightgreen;\n",
       "        }</style><table id=\"T_51dcacbd_034b_11ec_81ed_9457a5d83a5b\" ><thead>    <tr>        <th class=\"blank level0\" ></th>        <th class=\"col_heading level0 col0\" >Description</th>        <th class=\"col_heading level0 col1\" >Value</th>    </tr></thead><tbody>\n",
       "                <tr>\n",
       "                        <th id=\"T_51dcacbd_034b_11ec_81ed_9457a5d83a5blevel0_row0\" class=\"row_heading level0 row0\" >0</th>\n",
       "                        <td id=\"T_51dcacbd_034b_11ec_81ed_9457a5d83a5brow0_col0\" class=\"data row0 col0\" >session_id</td>\n",
       "                        <td id=\"T_51dcacbd_034b_11ec_81ed_9457a5d83a5brow0_col1\" class=\"data row0 col1\" >7123</td>\n",
       "            </tr>\n",
       "            <tr>\n",
       "                        <th id=\"T_51dcacbd_034b_11ec_81ed_9457a5d83a5blevel0_row1\" class=\"row_heading level0 row1\" >1</th>\n",
       "                        <td id=\"T_51dcacbd_034b_11ec_81ed_9457a5d83a5brow1_col0\" class=\"data row1 col0\" >Target</td>\n",
       "                        <td id=\"T_51dcacbd_034b_11ec_81ed_9457a5d83a5brow1_col1\" class=\"data row1 col1\" >TravelInsurance</td>\n",
       "            </tr>\n",
       "            <tr>\n",
       "                        <th id=\"T_51dcacbd_034b_11ec_81ed_9457a5d83a5blevel0_row2\" class=\"row_heading level0 row2\" >2</th>\n",
       "                        <td id=\"T_51dcacbd_034b_11ec_81ed_9457a5d83a5brow2_col0\" class=\"data row2 col0\" >Target Type</td>\n",
       "                        <td id=\"T_51dcacbd_034b_11ec_81ed_9457a5d83a5brow2_col1\" class=\"data row2 col1\" >Binary</td>\n",
       "            </tr>\n",
       "            <tr>\n",
       "                        <th id=\"T_51dcacbd_034b_11ec_81ed_9457a5d83a5blevel0_row3\" class=\"row_heading level0 row3\" >3</th>\n",
       "                        <td id=\"T_51dcacbd_034b_11ec_81ed_9457a5d83a5brow3_col0\" class=\"data row3 col0\" >Label Encoded</td>\n",
       "                        <td id=\"T_51dcacbd_034b_11ec_81ed_9457a5d83a5brow3_col1\" class=\"data row3 col1\" >0: 0, 1: 1</td>\n",
       "            </tr>\n",
       "            <tr>\n",
       "                        <th id=\"T_51dcacbd_034b_11ec_81ed_9457a5d83a5blevel0_row4\" class=\"row_heading level0 row4\" >4</th>\n",
       "                        <td id=\"T_51dcacbd_034b_11ec_81ed_9457a5d83a5brow4_col0\" class=\"data row4 col0\" >Original Data</td>\n",
       "                        <td id=\"T_51dcacbd_034b_11ec_81ed_9457a5d83a5brow4_col1\" class=\"data row4 col1\" >(1490, 10)</td>\n",
       "            </tr>\n",
       "            <tr>\n",
       "                        <th id=\"T_51dcacbd_034b_11ec_81ed_9457a5d83a5blevel0_row5\" class=\"row_heading level0 row5\" >5</th>\n",
       "                        <td id=\"T_51dcacbd_034b_11ec_81ed_9457a5d83a5brow5_col0\" class=\"data row5 col0\" >Missing Values</td>\n",
       "                        <td id=\"T_51dcacbd_034b_11ec_81ed_9457a5d83a5brow5_col1\" class=\"data row5 col1\" >False</td>\n",
       "            </tr>\n",
       "            <tr>\n",
       "                        <th id=\"T_51dcacbd_034b_11ec_81ed_9457a5d83a5blevel0_row6\" class=\"row_heading level0 row6\" >6</th>\n",
       "                        <td id=\"T_51dcacbd_034b_11ec_81ed_9457a5d83a5brow6_col0\" class=\"data row6 col0\" >Numeric Features</td>\n",
       "                        <td id=\"T_51dcacbd_034b_11ec_81ed_9457a5d83a5brow6_col1\" class=\"data row6 col1\" >2</td>\n",
       "            </tr>\n",
       "            <tr>\n",
       "                        <th id=\"T_51dcacbd_034b_11ec_81ed_9457a5d83a5blevel0_row7\" class=\"row_heading level0 row7\" >7</th>\n",
       "                        <td id=\"T_51dcacbd_034b_11ec_81ed_9457a5d83a5brow7_col0\" class=\"data row7 col0\" >Categorical Features</td>\n",
       "                        <td id=\"T_51dcacbd_034b_11ec_81ed_9457a5d83a5brow7_col1\" class=\"data row7 col1\" >7</td>\n",
       "            </tr>\n",
       "            <tr>\n",
       "                        <th id=\"T_51dcacbd_034b_11ec_81ed_9457a5d83a5blevel0_row8\" class=\"row_heading level0 row8\" >8</th>\n",
       "                        <td id=\"T_51dcacbd_034b_11ec_81ed_9457a5d83a5brow8_col0\" class=\"data row8 col0\" >Ordinal Features</td>\n",
       "                        <td id=\"T_51dcacbd_034b_11ec_81ed_9457a5d83a5brow8_col1\" class=\"data row8 col1\" >False</td>\n",
       "            </tr>\n",
       "            <tr>\n",
       "                        <th id=\"T_51dcacbd_034b_11ec_81ed_9457a5d83a5blevel0_row9\" class=\"row_heading level0 row9\" >9</th>\n",
       "                        <td id=\"T_51dcacbd_034b_11ec_81ed_9457a5d83a5brow9_col0\" class=\"data row9 col0\" >High Cardinality Features</td>\n",
       "                        <td id=\"T_51dcacbd_034b_11ec_81ed_9457a5d83a5brow9_col1\" class=\"data row9 col1\" >False</td>\n",
       "            </tr>\n",
       "            <tr>\n",
       "                        <th id=\"T_51dcacbd_034b_11ec_81ed_9457a5d83a5blevel0_row10\" class=\"row_heading level0 row10\" >10</th>\n",
       "                        <td id=\"T_51dcacbd_034b_11ec_81ed_9457a5d83a5brow10_col0\" class=\"data row10 col0\" >High Cardinality Method</td>\n",
       "                        <td id=\"T_51dcacbd_034b_11ec_81ed_9457a5d83a5brow10_col1\" class=\"data row10 col1\" >None</td>\n",
       "            </tr>\n",
       "            <tr>\n",
       "                        <th id=\"T_51dcacbd_034b_11ec_81ed_9457a5d83a5blevel0_row11\" class=\"row_heading level0 row11\" >11</th>\n",
       "                        <td id=\"T_51dcacbd_034b_11ec_81ed_9457a5d83a5brow11_col0\" class=\"data row11 col0\" >Transformed Train Set</td>\n",
       "                        <td id=\"T_51dcacbd_034b_11ec_81ed_9457a5d83a5brow11_col1\" class=\"data row11 col1\" >(1042, 25)</td>\n",
       "            </tr>\n",
       "            <tr>\n",
       "                        <th id=\"T_51dcacbd_034b_11ec_81ed_9457a5d83a5blevel0_row12\" class=\"row_heading level0 row12\" >12</th>\n",
       "                        <td id=\"T_51dcacbd_034b_11ec_81ed_9457a5d83a5brow12_col0\" class=\"data row12 col0\" >Transformed Test Set</td>\n",
       "                        <td id=\"T_51dcacbd_034b_11ec_81ed_9457a5d83a5brow12_col1\" class=\"data row12 col1\" >(448, 25)</td>\n",
       "            </tr>\n",
       "            <tr>\n",
       "                        <th id=\"T_51dcacbd_034b_11ec_81ed_9457a5d83a5blevel0_row13\" class=\"row_heading level0 row13\" >13</th>\n",
       "                        <td id=\"T_51dcacbd_034b_11ec_81ed_9457a5d83a5brow13_col0\" class=\"data row13 col0\" >Shuffle Train-Test</td>\n",
       "                        <td id=\"T_51dcacbd_034b_11ec_81ed_9457a5d83a5brow13_col1\" class=\"data row13 col1\" >True</td>\n",
       "            </tr>\n",
       "            <tr>\n",
       "                        <th id=\"T_51dcacbd_034b_11ec_81ed_9457a5d83a5blevel0_row14\" class=\"row_heading level0 row14\" >14</th>\n",
       "                        <td id=\"T_51dcacbd_034b_11ec_81ed_9457a5d83a5brow14_col0\" class=\"data row14 col0\" >Stratify Train-Test</td>\n",
       "                        <td id=\"T_51dcacbd_034b_11ec_81ed_9457a5d83a5brow14_col1\" class=\"data row14 col1\" >False</td>\n",
       "            </tr>\n",
       "            <tr>\n",
       "                        <th id=\"T_51dcacbd_034b_11ec_81ed_9457a5d83a5blevel0_row15\" class=\"row_heading level0 row15\" >15</th>\n",
       "                        <td id=\"T_51dcacbd_034b_11ec_81ed_9457a5d83a5brow15_col0\" class=\"data row15 col0\" >Fold Generator</td>\n",
       "                        <td id=\"T_51dcacbd_034b_11ec_81ed_9457a5d83a5brow15_col1\" class=\"data row15 col1\" >StratifiedKFold</td>\n",
       "            </tr>\n",
       "            <tr>\n",
       "                        <th id=\"T_51dcacbd_034b_11ec_81ed_9457a5d83a5blevel0_row16\" class=\"row_heading level0 row16\" >16</th>\n",
       "                        <td id=\"T_51dcacbd_034b_11ec_81ed_9457a5d83a5brow16_col0\" class=\"data row16 col0\" >Fold Number</td>\n",
       "                        <td id=\"T_51dcacbd_034b_11ec_81ed_9457a5d83a5brow16_col1\" class=\"data row16 col1\" >10</td>\n",
       "            </tr>\n",
       "            <tr>\n",
       "                        <th id=\"T_51dcacbd_034b_11ec_81ed_9457a5d83a5blevel0_row17\" class=\"row_heading level0 row17\" >17</th>\n",
       "                        <td id=\"T_51dcacbd_034b_11ec_81ed_9457a5d83a5brow17_col0\" class=\"data row17 col0\" >CPU Jobs</td>\n",
       "                        <td id=\"T_51dcacbd_034b_11ec_81ed_9457a5d83a5brow17_col1\" class=\"data row17 col1\" >-1</td>\n",
       "            </tr>\n",
       "            <tr>\n",
       "                        <th id=\"T_51dcacbd_034b_11ec_81ed_9457a5d83a5blevel0_row18\" class=\"row_heading level0 row18\" >18</th>\n",
       "                        <td id=\"T_51dcacbd_034b_11ec_81ed_9457a5d83a5brow18_col0\" class=\"data row18 col0\" >Use GPU</td>\n",
       "                        <td id=\"T_51dcacbd_034b_11ec_81ed_9457a5d83a5brow18_col1\" class=\"data row18 col1\" >False</td>\n",
       "            </tr>\n",
       "            <tr>\n",
       "                        <th id=\"T_51dcacbd_034b_11ec_81ed_9457a5d83a5blevel0_row19\" class=\"row_heading level0 row19\" >19</th>\n",
       "                        <td id=\"T_51dcacbd_034b_11ec_81ed_9457a5d83a5brow19_col0\" class=\"data row19 col0\" >Log Experiment</td>\n",
       "                        <td id=\"T_51dcacbd_034b_11ec_81ed_9457a5d83a5brow19_col1\" class=\"data row19 col1\" >False</td>\n",
       "            </tr>\n",
       "            <tr>\n",
       "                        <th id=\"T_51dcacbd_034b_11ec_81ed_9457a5d83a5blevel0_row20\" class=\"row_heading level0 row20\" >20</th>\n",
       "                        <td id=\"T_51dcacbd_034b_11ec_81ed_9457a5d83a5brow20_col0\" class=\"data row20 col0\" >Experiment Name</td>\n",
       "                        <td id=\"T_51dcacbd_034b_11ec_81ed_9457a5d83a5brow20_col1\" class=\"data row20 col1\" >clf-default-name</td>\n",
       "            </tr>\n",
       "            <tr>\n",
       "                        <th id=\"T_51dcacbd_034b_11ec_81ed_9457a5d83a5blevel0_row21\" class=\"row_heading level0 row21\" >21</th>\n",
       "                        <td id=\"T_51dcacbd_034b_11ec_81ed_9457a5d83a5brow21_col0\" class=\"data row21 col0\" >USI</td>\n",
       "                        <td id=\"T_51dcacbd_034b_11ec_81ed_9457a5d83a5brow21_col1\" class=\"data row21 col1\" >fc53</td>\n",
       "            </tr>\n",
       "            <tr>\n",
       "                        <th id=\"T_51dcacbd_034b_11ec_81ed_9457a5d83a5blevel0_row22\" class=\"row_heading level0 row22\" >22</th>\n",
       "                        <td id=\"T_51dcacbd_034b_11ec_81ed_9457a5d83a5brow22_col0\" class=\"data row22 col0\" >Imputation Type</td>\n",
       "                        <td id=\"T_51dcacbd_034b_11ec_81ed_9457a5d83a5brow22_col1\" class=\"data row22 col1\" >simple</td>\n",
       "            </tr>\n",
       "            <tr>\n",
       "                        <th id=\"T_51dcacbd_034b_11ec_81ed_9457a5d83a5blevel0_row23\" class=\"row_heading level0 row23\" >23</th>\n",
       "                        <td id=\"T_51dcacbd_034b_11ec_81ed_9457a5d83a5brow23_col0\" class=\"data row23 col0\" >Iterative Imputation Iteration</td>\n",
       "                        <td id=\"T_51dcacbd_034b_11ec_81ed_9457a5d83a5brow23_col1\" class=\"data row23 col1\" >None</td>\n",
       "            </tr>\n",
       "            <tr>\n",
       "                        <th id=\"T_51dcacbd_034b_11ec_81ed_9457a5d83a5blevel0_row24\" class=\"row_heading level0 row24\" >24</th>\n",
       "                        <td id=\"T_51dcacbd_034b_11ec_81ed_9457a5d83a5brow24_col0\" class=\"data row24 col0\" >Numeric Imputer</td>\n",
       "                        <td id=\"T_51dcacbd_034b_11ec_81ed_9457a5d83a5brow24_col1\" class=\"data row24 col1\" >mean</td>\n",
       "            </tr>\n",
       "            <tr>\n",
       "                        <th id=\"T_51dcacbd_034b_11ec_81ed_9457a5d83a5blevel0_row25\" class=\"row_heading level0 row25\" >25</th>\n",
       "                        <td id=\"T_51dcacbd_034b_11ec_81ed_9457a5d83a5brow25_col0\" class=\"data row25 col0\" >Iterative Imputation Numeric Model</td>\n",
       "                        <td id=\"T_51dcacbd_034b_11ec_81ed_9457a5d83a5brow25_col1\" class=\"data row25 col1\" >None</td>\n",
       "            </tr>\n",
       "            <tr>\n",
       "                        <th id=\"T_51dcacbd_034b_11ec_81ed_9457a5d83a5blevel0_row26\" class=\"row_heading level0 row26\" >26</th>\n",
       "                        <td id=\"T_51dcacbd_034b_11ec_81ed_9457a5d83a5brow26_col0\" class=\"data row26 col0\" >Categorical Imputer</td>\n",
       "                        <td id=\"T_51dcacbd_034b_11ec_81ed_9457a5d83a5brow26_col1\" class=\"data row26 col1\" >constant</td>\n",
       "            </tr>\n",
       "            <tr>\n",
       "                        <th id=\"T_51dcacbd_034b_11ec_81ed_9457a5d83a5blevel0_row27\" class=\"row_heading level0 row27\" >27</th>\n",
       "                        <td id=\"T_51dcacbd_034b_11ec_81ed_9457a5d83a5brow27_col0\" class=\"data row27 col0\" >Iterative Imputation Categorical Model</td>\n",
       "                        <td id=\"T_51dcacbd_034b_11ec_81ed_9457a5d83a5brow27_col1\" class=\"data row27 col1\" >None</td>\n",
       "            </tr>\n",
       "            <tr>\n",
       "                        <th id=\"T_51dcacbd_034b_11ec_81ed_9457a5d83a5blevel0_row28\" class=\"row_heading level0 row28\" >28</th>\n",
       "                        <td id=\"T_51dcacbd_034b_11ec_81ed_9457a5d83a5brow28_col0\" class=\"data row28 col0\" >Unknown Categoricals Handling</td>\n",
       "                        <td id=\"T_51dcacbd_034b_11ec_81ed_9457a5d83a5brow28_col1\" class=\"data row28 col1\" >least_frequent</td>\n",
       "            </tr>\n",
       "            <tr>\n",
       "                        <th id=\"T_51dcacbd_034b_11ec_81ed_9457a5d83a5blevel0_row29\" class=\"row_heading level0 row29\" >29</th>\n",
       "                        <td id=\"T_51dcacbd_034b_11ec_81ed_9457a5d83a5brow29_col0\" class=\"data row29 col0\" >Normalize</td>\n",
       "                        <td id=\"T_51dcacbd_034b_11ec_81ed_9457a5d83a5brow29_col1\" class=\"data row29 col1\" >False</td>\n",
       "            </tr>\n",
       "            <tr>\n",
       "                        <th id=\"T_51dcacbd_034b_11ec_81ed_9457a5d83a5blevel0_row30\" class=\"row_heading level0 row30\" >30</th>\n",
       "                        <td id=\"T_51dcacbd_034b_11ec_81ed_9457a5d83a5brow30_col0\" class=\"data row30 col0\" >Normalize Method</td>\n",
       "                        <td id=\"T_51dcacbd_034b_11ec_81ed_9457a5d83a5brow30_col1\" class=\"data row30 col1\" >None</td>\n",
       "            </tr>\n",
       "            <tr>\n",
       "                        <th id=\"T_51dcacbd_034b_11ec_81ed_9457a5d83a5blevel0_row31\" class=\"row_heading level0 row31\" >31</th>\n",
       "                        <td id=\"T_51dcacbd_034b_11ec_81ed_9457a5d83a5brow31_col0\" class=\"data row31 col0\" >Transformation</td>\n",
       "                        <td id=\"T_51dcacbd_034b_11ec_81ed_9457a5d83a5brow31_col1\" class=\"data row31 col1\" >False</td>\n",
       "            </tr>\n",
       "            <tr>\n",
       "                        <th id=\"T_51dcacbd_034b_11ec_81ed_9457a5d83a5blevel0_row32\" class=\"row_heading level0 row32\" >32</th>\n",
       "                        <td id=\"T_51dcacbd_034b_11ec_81ed_9457a5d83a5brow32_col0\" class=\"data row32 col0\" >Transformation Method</td>\n",
       "                        <td id=\"T_51dcacbd_034b_11ec_81ed_9457a5d83a5brow32_col1\" class=\"data row32 col1\" >None</td>\n",
       "            </tr>\n",
       "            <tr>\n",
       "                        <th id=\"T_51dcacbd_034b_11ec_81ed_9457a5d83a5blevel0_row33\" class=\"row_heading level0 row33\" >33</th>\n",
       "                        <td id=\"T_51dcacbd_034b_11ec_81ed_9457a5d83a5brow33_col0\" class=\"data row33 col0\" >PCA</td>\n",
       "                        <td id=\"T_51dcacbd_034b_11ec_81ed_9457a5d83a5brow33_col1\" class=\"data row33 col1\" >False</td>\n",
       "            </tr>\n",
       "            <tr>\n",
       "                        <th id=\"T_51dcacbd_034b_11ec_81ed_9457a5d83a5blevel0_row34\" class=\"row_heading level0 row34\" >34</th>\n",
       "                        <td id=\"T_51dcacbd_034b_11ec_81ed_9457a5d83a5brow34_col0\" class=\"data row34 col0\" >PCA Method</td>\n",
       "                        <td id=\"T_51dcacbd_034b_11ec_81ed_9457a5d83a5brow34_col1\" class=\"data row34 col1\" >None</td>\n",
       "            </tr>\n",
       "            <tr>\n",
       "                        <th id=\"T_51dcacbd_034b_11ec_81ed_9457a5d83a5blevel0_row35\" class=\"row_heading level0 row35\" >35</th>\n",
       "                        <td id=\"T_51dcacbd_034b_11ec_81ed_9457a5d83a5brow35_col0\" class=\"data row35 col0\" >PCA Components</td>\n",
       "                        <td id=\"T_51dcacbd_034b_11ec_81ed_9457a5d83a5brow35_col1\" class=\"data row35 col1\" >None</td>\n",
       "            </tr>\n",
       "            <tr>\n",
       "                        <th id=\"T_51dcacbd_034b_11ec_81ed_9457a5d83a5blevel0_row36\" class=\"row_heading level0 row36\" >36</th>\n",
       "                        <td id=\"T_51dcacbd_034b_11ec_81ed_9457a5d83a5brow36_col0\" class=\"data row36 col0\" >Ignore Low Variance</td>\n",
       "                        <td id=\"T_51dcacbd_034b_11ec_81ed_9457a5d83a5brow36_col1\" class=\"data row36 col1\" >False</td>\n",
       "            </tr>\n",
       "            <tr>\n",
       "                        <th id=\"T_51dcacbd_034b_11ec_81ed_9457a5d83a5blevel0_row37\" class=\"row_heading level0 row37\" >37</th>\n",
       "                        <td id=\"T_51dcacbd_034b_11ec_81ed_9457a5d83a5brow37_col0\" class=\"data row37 col0\" >Combine Rare Levels</td>\n",
       "                        <td id=\"T_51dcacbd_034b_11ec_81ed_9457a5d83a5brow37_col1\" class=\"data row37 col1\" >False</td>\n",
       "            </tr>\n",
       "            <tr>\n",
       "                        <th id=\"T_51dcacbd_034b_11ec_81ed_9457a5d83a5blevel0_row38\" class=\"row_heading level0 row38\" >38</th>\n",
       "                        <td id=\"T_51dcacbd_034b_11ec_81ed_9457a5d83a5brow38_col0\" class=\"data row38 col0\" >Rare Level Threshold</td>\n",
       "                        <td id=\"T_51dcacbd_034b_11ec_81ed_9457a5d83a5brow38_col1\" class=\"data row38 col1\" >None</td>\n",
       "            </tr>\n",
       "            <tr>\n",
       "                        <th id=\"T_51dcacbd_034b_11ec_81ed_9457a5d83a5blevel0_row39\" class=\"row_heading level0 row39\" >39</th>\n",
       "                        <td id=\"T_51dcacbd_034b_11ec_81ed_9457a5d83a5brow39_col0\" class=\"data row39 col0\" >Numeric Binning</td>\n",
       "                        <td id=\"T_51dcacbd_034b_11ec_81ed_9457a5d83a5brow39_col1\" class=\"data row39 col1\" >False</td>\n",
       "            </tr>\n",
       "            <tr>\n",
       "                        <th id=\"T_51dcacbd_034b_11ec_81ed_9457a5d83a5blevel0_row40\" class=\"row_heading level0 row40\" >40</th>\n",
       "                        <td id=\"T_51dcacbd_034b_11ec_81ed_9457a5d83a5brow40_col0\" class=\"data row40 col0\" >Remove Outliers</td>\n",
       "                        <td id=\"T_51dcacbd_034b_11ec_81ed_9457a5d83a5brow40_col1\" class=\"data row40 col1\" >False</td>\n",
       "            </tr>\n",
       "            <tr>\n",
       "                        <th id=\"T_51dcacbd_034b_11ec_81ed_9457a5d83a5blevel0_row41\" class=\"row_heading level0 row41\" >41</th>\n",
       "                        <td id=\"T_51dcacbd_034b_11ec_81ed_9457a5d83a5brow41_col0\" class=\"data row41 col0\" >Outliers Threshold</td>\n",
       "                        <td id=\"T_51dcacbd_034b_11ec_81ed_9457a5d83a5brow41_col1\" class=\"data row41 col1\" >None</td>\n",
       "            </tr>\n",
       "            <tr>\n",
       "                        <th id=\"T_51dcacbd_034b_11ec_81ed_9457a5d83a5blevel0_row42\" class=\"row_heading level0 row42\" >42</th>\n",
       "                        <td id=\"T_51dcacbd_034b_11ec_81ed_9457a5d83a5brow42_col0\" class=\"data row42 col0\" >Remove Multicollinearity</td>\n",
       "                        <td id=\"T_51dcacbd_034b_11ec_81ed_9457a5d83a5brow42_col1\" class=\"data row42 col1\" >False</td>\n",
       "            </tr>\n",
       "            <tr>\n",
       "                        <th id=\"T_51dcacbd_034b_11ec_81ed_9457a5d83a5blevel0_row43\" class=\"row_heading level0 row43\" >43</th>\n",
       "                        <td id=\"T_51dcacbd_034b_11ec_81ed_9457a5d83a5brow43_col0\" class=\"data row43 col0\" >Multicollinearity Threshold</td>\n",
       "                        <td id=\"T_51dcacbd_034b_11ec_81ed_9457a5d83a5brow43_col1\" class=\"data row43 col1\" >None</td>\n",
       "            </tr>\n",
       "            <tr>\n",
       "                        <th id=\"T_51dcacbd_034b_11ec_81ed_9457a5d83a5blevel0_row44\" class=\"row_heading level0 row44\" >44</th>\n",
       "                        <td id=\"T_51dcacbd_034b_11ec_81ed_9457a5d83a5brow44_col0\" class=\"data row44 col0\" >Remove Perfect Collinearity</td>\n",
       "                        <td id=\"T_51dcacbd_034b_11ec_81ed_9457a5d83a5brow44_col1\" class=\"data row44 col1\" >True</td>\n",
       "            </tr>\n",
       "            <tr>\n",
       "                        <th id=\"T_51dcacbd_034b_11ec_81ed_9457a5d83a5blevel0_row45\" class=\"row_heading level0 row45\" >45</th>\n",
       "                        <td id=\"T_51dcacbd_034b_11ec_81ed_9457a5d83a5brow45_col0\" class=\"data row45 col0\" >Clustering</td>\n",
       "                        <td id=\"T_51dcacbd_034b_11ec_81ed_9457a5d83a5brow45_col1\" class=\"data row45 col1\" >False</td>\n",
       "            </tr>\n",
       "            <tr>\n",
       "                        <th id=\"T_51dcacbd_034b_11ec_81ed_9457a5d83a5blevel0_row46\" class=\"row_heading level0 row46\" >46</th>\n",
       "                        <td id=\"T_51dcacbd_034b_11ec_81ed_9457a5d83a5brow46_col0\" class=\"data row46 col0\" >Clustering Iteration</td>\n",
       "                        <td id=\"T_51dcacbd_034b_11ec_81ed_9457a5d83a5brow46_col1\" class=\"data row46 col1\" >None</td>\n",
       "            </tr>\n",
       "            <tr>\n",
       "                        <th id=\"T_51dcacbd_034b_11ec_81ed_9457a5d83a5blevel0_row47\" class=\"row_heading level0 row47\" >47</th>\n",
       "                        <td id=\"T_51dcacbd_034b_11ec_81ed_9457a5d83a5brow47_col0\" class=\"data row47 col0\" >Polynomial Features</td>\n",
       "                        <td id=\"T_51dcacbd_034b_11ec_81ed_9457a5d83a5brow47_col1\" class=\"data row47 col1\" >False</td>\n",
       "            </tr>\n",
       "            <tr>\n",
       "                        <th id=\"T_51dcacbd_034b_11ec_81ed_9457a5d83a5blevel0_row48\" class=\"row_heading level0 row48\" >48</th>\n",
       "                        <td id=\"T_51dcacbd_034b_11ec_81ed_9457a5d83a5brow48_col0\" class=\"data row48 col0\" >Polynomial Degree</td>\n",
       "                        <td id=\"T_51dcacbd_034b_11ec_81ed_9457a5d83a5brow48_col1\" class=\"data row48 col1\" >None</td>\n",
       "            </tr>\n",
       "            <tr>\n",
       "                        <th id=\"T_51dcacbd_034b_11ec_81ed_9457a5d83a5blevel0_row49\" class=\"row_heading level0 row49\" >49</th>\n",
       "                        <td id=\"T_51dcacbd_034b_11ec_81ed_9457a5d83a5brow49_col0\" class=\"data row49 col0\" >Trignometry Features</td>\n",
       "                        <td id=\"T_51dcacbd_034b_11ec_81ed_9457a5d83a5brow49_col1\" class=\"data row49 col1\" >False</td>\n",
       "            </tr>\n",
       "            <tr>\n",
       "                        <th id=\"T_51dcacbd_034b_11ec_81ed_9457a5d83a5blevel0_row50\" class=\"row_heading level0 row50\" >50</th>\n",
       "                        <td id=\"T_51dcacbd_034b_11ec_81ed_9457a5d83a5brow50_col0\" class=\"data row50 col0\" >Polynomial Threshold</td>\n",
       "                        <td id=\"T_51dcacbd_034b_11ec_81ed_9457a5d83a5brow50_col1\" class=\"data row50 col1\" >None</td>\n",
       "            </tr>\n",
       "            <tr>\n",
       "                        <th id=\"T_51dcacbd_034b_11ec_81ed_9457a5d83a5blevel0_row51\" class=\"row_heading level0 row51\" >51</th>\n",
       "                        <td id=\"T_51dcacbd_034b_11ec_81ed_9457a5d83a5brow51_col0\" class=\"data row51 col0\" >Group Features</td>\n",
       "                        <td id=\"T_51dcacbd_034b_11ec_81ed_9457a5d83a5brow51_col1\" class=\"data row51 col1\" >False</td>\n",
       "            </tr>\n",
       "            <tr>\n",
       "                        <th id=\"T_51dcacbd_034b_11ec_81ed_9457a5d83a5blevel0_row52\" class=\"row_heading level0 row52\" >52</th>\n",
       "                        <td id=\"T_51dcacbd_034b_11ec_81ed_9457a5d83a5brow52_col0\" class=\"data row52 col0\" >Feature Selection</td>\n",
       "                        <td id=\"T_51dcacbd_034b_11ec_81ed_9457a5d83a5brow52_col1\" class=\"data row52 col1\" >False</td>\n",
       "            </tr>\n",
       "            <tr>\n",
       "                        <th id=\"T_51dcacbd_034b_11ec_81ed_9457a5d83a5blevel0_row53\" class=\"row_heading level0 row53\" >53</th>\n",
       "                        <td id=\"T_51dcacbd_034b_11ec_81ed_9457a5d83a5brow53_col0\" class=\"data row53 col0\" >Feature Selection Method</td>\n",
       "                        <td id=\"T_51dcacbd_034b_11ec_81ed_9457a5d83a5brow53_col1\" class=\"data row53 col1\" >classic</td>\n",
       "            </tr>\n",
       "            <tr>\n",
       "                        <th id=\"T_51dcacbd_034b_11ec_81ed_9457a5d83a5blevel0_row54\" class=\"row_heading level0 row54\" >54</th>\n",
       "                        <td id=\"T_51dcacbd_034b_11ec_81ed_9457a5d83a5brow54_col0\" class=\"data row54 col0\" >Features Selection Threshold</td>\n",
       "                        <td id=\"T_51dcacbd_034b_11ec_81ed_9457a5d83a5brow54_col1\" class=\"data row54 col1\" >None</td>\n",
       "            </tr>\n",
       "            <tr>\n",
       "                        <th id=\"T_51dcacbd_034b_11ec_81ed_9457a5d83a5blevel0_row55\" class=\"row_heading level0 row55\" >55</th>\n",
       "                        <td id=\"T_51dcacbd_034b_11ec_81ed_9457a5d83a5brow55_col0\" class=\"data row55 col0\" >Feature Interaction</td>\n",
       "                        <td id=\"T_51dcacbd_034b_11ec_81ed_9457a5d83a5brow55_col1\" class=\"data row55 col1\" >False</td>\n",
       "            </tr>\n",
       "            <tr>\n",
       "                        <th id=\"T_51dcacbd_034b_11ec_81ed_9457a5d83a5blevel0_row56\" class=\"row_heading level0 row56\" >56</th>\n",
       "                        <td id=\"T_51dcacbd_034b_11ec_81ed_9457a5d83a5brow56_col0\" class=\"data row56 col0\" >Feature Ratio</td>\n",
       "                        <td id=\"T_51dcacbd_034b_11ec_81ed_9457a5d83a5brow56_col1\" class=\"data row56 col1\" >False</td>\n",
       "            </tr>\n",
       "            <tr>\n",
       "                        <th id=\"T_51dcacbd_034b_11ec_81ed_9457a5d83a5blevel0_row57\" class=\"row_heading level0 row57\" >57</th>\n",
       "                        <td id=\"T_51dcacbd_034b_11ec_81ed_9457a5d83a5brow57_col0\" class=\"data row57 col0\" >Interaction Threshold</td>\n",
       "                        <td id=\"T_51dcacbd_034b_11ec_81ed_9457a5d83a5brow57_col1\" class=\"data row57 col1\" >None</td>\n",
       "            </tr>\n",
       "            <tr>\n",
       "                        <th id=\"T_51dcacbd_034b_11ec_81ed_9457a5d83a5blevel0_row58\" class=\"row_heading level0 row58\" >58</th>\n",
       "                        <td id=\"T_51dcacbd_034b_11ec_81ed_9457a5d83a5brow58_col0\" class=\"data row58 col0\" >Fix Imbalance</td>\n",
       "                        <td id=\"T_51dcacbd_034b_11ec_81ed_9457a5d83a5brow58_col1\" class=\"data row58 col1\" >False</td>\n",
       "            </tr>\n",
       "            <tr>\n",
       "                        <th id=\"T_51dcacbd_034b_11ec_81ed_9457a5d83a5blevel0_row59\" class=\"row_heading level0 row59\" >59</th>\n",
       "                        <td id=\"T_51dcacbd_034b_11ec_81ed_9457a5d83a5brow59_col0\" class=\"data row59 col0\" >Fix Imbalance Method</td>\n",
       "                        <td id=\"T_51dcacbd_034b_11ec_81ed_9457a5d83a5brow59_col1\" class=\"data row59 col1\" >SMOTE</td>\n",
       "            </tr>\n",
       "    </tbody></table>"
      ],
      "text/plain": [
       "<pandas.io.formats.style.Styler at 0xd9a7df2f40>"
      ]
     },
     "metadata": {},
     "output_type": "display_data"
    }
   ],
   "source": [
    "from pycaret.classification import *\n",
    "clf = setup(data = train_df, target = 'TravelInsurance')"
   ]
  },
  {
   "cell_type": "code",
   "execution_count": 5,
   "metadata": {},
   "outputs": [
    {
     "data": {
      "text/html": [
       "<style  type=\"text/css\" >\n",
       "    #T_8ba49e56_034b_11ec_bcd1_9457a5d83a5b th {\n",
       "          text-align: left;\n",
       "    }#T_8ba49e56_034b_11ec_bcd1_9457a5d83a5brow0_col0,#T_8ba49e56_034b_11ec_bcd1_9457a5d83a5brow0_col1,#T_8ba49e56_034b_11ec_bcd1_9457a5d83a5brow0_col2,#T_8ba49e56_034b_11ec_bcd1_9457a5d83a5brow0_col3,#T_8ba49e56_034b_11ec_bcd1_9457a5d83a5brow0_col4,#T_8ba49e56_034b_11ec_bcd1_9457a5d83a5brow0_col6,#T_8ba49e56_034b_11ec_bcd1_9457a5d83a5brow0_col7,#T_8ba49e56_034b_11ec_bcd1_9457a5d83a5brow1_col0,#T_8ba49e56_034b_11ec_bcd1_9457a5d83a5brow1_col1,#T_8ba49e56_034b_11ec_bcd1_9457a5d83a5brow1_col3,#T_8ba49e56_034b_11ec_bcd1_9457a5d83a5brow1_col4,#T_8ba49e56_034b_11ec_bcd1_9457a5d83a5brow1_col5,#T_8ba49e56_034b_11ec_bcd1_9457a5d83a5brow1_col6,#T_8ba49e56_034b_11ec_bcd1_9457a5d83a5brow1_col7,#T_8ba49e56_034b_11ec_bcd1_9457a5d83a5brow2_col0,#T_8ba49e56_034b_11ec_bcd1_9457a5d83a5brow2_col2,#T_8ba49e56_034b_11ec_bcd1_9457a5d83a5brow2_col3,#T_8ba49e56_034b_11ec_bcd1_9457a5d83a5brow2_col4,#T_8ba49e56_034b_11ec_bcd1_9457a5d83a5brow2_col5,#T_8ba49e56_034b_11ec_bcd1_9457a5d83a5brow3_col0,#T_8ba49e56_034b_11ec_bcd1_9457a5d83a5brow3_col1,#T_8ba49e56_034b_11ec_bcd1_9457a5d83a5brow3_col2,#T_8ba49e56_034b_11ec_bcd1_9457a5d83a5brow3_col3,#T_8ba49e56_034b_11ec_bcd1_9457a5d83a5brow3_col4,#T_8ba49e56_034b_11ec_bcd1_9457a5d83a5brow3_col5,#T_8ba49e56_034b_11ec_bcd1_9457a5d83a5brow3_col6,#T_8ba49e56_034b_11ec_bcd1_9457a5d83a5brow3_col7,#T_8ba49e56_034b_11ec_bcd1_9457a5d83a5brow4_col0,#T_8ba49e56_034b_11ec_bcd1_9457a5d83a5brow4_col1,#T_8ba49e56_034b_11ec_bcd1_9457a5d83a5brow4_col2,#T_8ba49e56_034b_11ec_bcd1_9457a5d83a5brow4_col3,#T_8ba49e56_034b_11ec_bcd1_9457a5d83a5brow4_col4,#T_8ba49e56_034b_11ec_bcd1_9457a5d83a5brow4_col5,#T_8ba49e56_034b_11ec_bcd1_9457a5d83a5brow4_col6,#T_8ba49e56_034b_11ec_bcd1_9457a5d83a5brow4_col7,#T_8ba49e56_034b_11ec_bcd1_9457a5d83a5brow5_col0,#T_8ba49e56_034b_11ec_bcd1_9457a5d83a5brow5_col1,#T_8ba49e56_034b_11ec_bcd1_9457a5d83a5brow5_col2,#T_8ba49e56_034b_11ec_bcd1_9457a5d83a5brow5_col3,#T_8ba49e56_034b_11ec_bcd1_9457a5d83a5brow5_col4,#T_8ba49e56_034b_11ec_bcd1_9457a5d83a5brow5_col5,#T_8ba49e56_034b_11ec_bcd1_9457a5d83a5brow5_col6,#T_8ba49e56_034b_11ec_bcd1_9457a5d83a5brow5_col7,#T_8ba49e56_034b_11ec_bcd1_9457a5d83a5brow6_col0,#T_8ba49e56_034b_11ec_bcd1_9457a5d83a5brow6_col1,#T_8ba49e56_034b_11ec_bcd1_9457a5d83a5brow6_col2,#T_8ba49e56_034b_11ec_bcd1_9457a5d83a5brow6_col3,#T_8ba49e56_034b_11ec_bcd1_9457a5d83a5brow6_col4,#T_8ba49e56_034b_11ec_bcd1_9457a5d83a5brow6_col5,#T_8ba49e56_034b_11ec_bcd1_9457a5d83a5brow6_col6,#T_8ba49e56_034b_11ec_bcd1_9457a5d83a5brow6_col7,#T_8ba49e56_034b_11ec_bcd1_9457a5d83a5brow7_col0,#T_8ba49e56_034b_11ec_bcd1_9457a5d83a5brow7_col1,#T_8ba49e56_034b_11ec_bcd1_9457a5d83a5brow7_col2,#T_8ba49e56_034b_11ec_bcd1_9457a5d83a5brow7_col3,#T_8ba49e56_034b_11ec_bcd1_9457a5d83a5brow7_col4,#T_8ba49e56_034b_11ec_bcd1_9457a5d83a5brow7_col5,#T_8ba49e56_034b_11ec_bcd1_9457a5d83a5brow7_col6,#T_8ba49e56_034b_11ec_bcd1_9457a5d83a5brow7_col7,#T_8ba49e56_034b_11ec_bcd1_9457a5d83a5brow8_col0,#T_8ba49e56_034b_11ec_bcd1_9457a5d83a5brow8_col1,#T_8ba49e56_034b_11ec_bcd1_9457a5d83a5brow8_col2,#T_8ba49e56_034b_11ec_bcd1_9457a5d83a5brow8_col3,#T_8ba49e56_034b_11ec_bcd1_9457a5d83a5brow8_col5,#T_8ba49e56_034b_11ec_bcd1_9457a5d83a5brow8_col6,#T_8ba49e56_034b_11ec_bcd1_9457a5d83a5brow8_col7,#T_8ba49e56_034b_11ec_bcd1_9457a5d83a5brow9_col0,#T_8ba49e56_034b_11ec_bcd1_9457a5d83a5brow9_col1,#T_8ba49e56_034b_11ec_bcd1_9457a5d83a5brow9_col2,#T_8ba49e56_034b_11ec_bcd1_9457a5d83a5brow9_col3,#T_8ba49e56_034b_11ec_bcd1_9457a5d83a5brow9_col4,#T_8ba49e56_034b_11ec_bcd1_9457a5d83a5brow9_col5,#T_8ba49e56_034b_11ec_bcd1_9457a5d83a5brow9_col6,#T_8ba49e56_034b_11ec_bcd1_9457a5d83a5brow9_col7,#T_8ba49e56_034b_11ec_bcd1_9457a5d83a5brow10_col0,#T_8ba49e56_034b_11ec_bcd1_9457a5d83a5brow10_col1,#T_8ba49e56_034b_11ec_bcd1_9457a5d83a5brow10_col2,#T_8ba49e56_034b_11ec_bcd1_9457a5d83a5brow10_col3,#T_8ba49e56_034b_11ec_bcd1_9457a5d83a5brow10_col4,#T_8ba49e56_034b_11ec_bcd1_9457a5d83a5brow10_col5,#T_8ba49e56_034b_11ec_bcd1_9457a5d83a5brow10_col6,#T_8ba49e56_034b_11ec_bcd1_9457a5d83a5brow10_col7,#T_8ba49e56_034b_11ec_bcd1_9457a5d83a5brow11_col0,#T_8ba49e56_034b_11ec_bcd1_9457a5d83a5brow11_col1,#T_8ba49e56_034b_11ec_bcd1_9457a5d83a5brow11_col2,#T_8ba49e56_034b_11ec_bcd1_9457a5d83a5brow11_col3,#T_8ba49e56_034b_11ec_bcd1_9457a5d83a5brow11_col4,#T_8ba49e56_034b_11ec_bcd1_9457a5d83a5brow11_col5,#T_8ba49e56_034b_11ec_bcd1_9457a5d83a5brow11_col6,#T_8ba49e56_034b_11ec_bcd1_9457a5d83a5brow11_col7,#T_8ba49e56_034b_11ec_bcd1_9457a5d83a5brow12_col0,#T_8ba49e56_034b_11ec_bcd1_9457a5d83a5brow12_col1,#T_8ba49e56_034b_11ec_bcd1_9457a5d83a5brow12_col2,#T_8ba49e56_034b_11ec_bcd1_9457a5d83a5brow12_col3,#T_8ba49e56_034b_11ec_bcd1_9457a5d83a5brow12_col4,#T_8ba49e56_034b_11ec_bcd1_9457a5d83a5brow12_col5,#T_8ba49e56_034b_11ec_bcd1_9457a5d83a5brow12_col6,#T_8ba49e56_034b_11ec_bcd1_9457a5d83a5brow12_col7,#T_8ba49e56_034b_11ec_bcd1_9457a5d83a5brow13_col0,#T_8ba49e56_034b_11ec_bcd1_9457a5d83a5brow13_col1,#T_8ba49e56_034b_11ec_bcd1_9457a5d83a5brow13_col2,#T_8ba49e56_034b_11ec_bcd1_9457a5d83a5brow13_col4,#T_8ba49e56_034b_11ec_bcd1_9457a5d83a5brow13_col5,#T_8ba49e56_034b_11ec_bcd1_9457a5d83a5brow13_col6,#T_8ba49e56_034b_11ec_bcd1_9457a5d83a5brow13_col7,#T_8ba49e56_034b_11ec_bcd1_9457a5d83a5brow14_col0,#T_8ba49e56_034b_11ec_bcd1_9457a5d83a5brow14_col1,#T_8ba49e56_034b_11ec_bcd1_9457a5d83a5brow14_col2,#T_8ba49e56_034b_11ec_bcd1_9457a5d83a5brow14_col3,#T_8ba49e56_034b_11ec_bcd1_9457a5d83a5brow14_col4,#T_8ba49e56_034b_11ec_bcd1_9457a5d83a5brow14_col5,#T_8ba49e56_034b_11ec_bcd1_9457a5d83a5brow14_col6,#T_8ba49e56_034b_11ec_bcd1_9457a5d83a5brow14_col7{\n",
       "            text-align:  left;\n",
       "            text-align:  left;\n",
       "        }#T_8ba49e56_034b_11ec_bcd1_9457a5d83a5brow0_col5,#T_8ba49e56_034b_11ec_bcd1_9457a5d83a5brow1_col2,#T_8ba49e56_034b_11ec_bcd1_9457a5d83a5brow2_col1,#T_8ba49e56_034b_11ec_bcd1_9457a5d83a5brow2_col6,#T_8ba49e56_034b_11ec_bcd1_9457a5d83a5brow2_col7,#T_8ba49e56_034b_11ec_bcd1_9457a5d83a5brow8_col4,#T_8ba49e56_034b_11ec_bcd1_9457a5d83a5brow13_col3{\n",
       "            text-align:  left;\n",
       "            text-align:  left;\n",
       "            background-color:  yellow;\n",
       "        }#T_8ba49e56_034b_11ec_bcd1_9457a5d83a5brow0_col8,#T_8ba49e56_034b_11ec_bcd1_9457a5d83a5brow1_col8,#T_8ba49e56_034b_11ec_bcd1_9457a5d83a5brow2_col8,#T_8ba49e56_034b_11ec_bcd1_9457a5d83a5brow3_col8,#T_8ba49e56_034b_11ec_bcd1_9457a5d83a5brow4_col8,#T_8ba49e56_034b_11ec_bcd1_9457a5d83a5brow5_col8,#T_8ba49e56_034b_11ec_bcd1_9457a5d83a5brow6_col8,#T_8ba49e56_034b_11ec_bcd1_9457a5d83a5brow7_col8,#T_8ba49e56_034b_11ec_bcd1_9457a5d83a5brow8_col8,#T_8ba49e56_034b_11ec_bcd1_9457a5d83a5brow9_col8,#T_8ba49e56_034b_11ec_bcd1_9457a5d83a5brow10_col8,#T_8ba49e56_034b_11ec_bcd1_9457a5d83a5brow12_col8,#T_8ba49e56_034b_11ec_bcd1_9457a5d83a5brow13_col8,#T_8ba49e56_034b_11ec_bcd1_9457a5d83a5brow14_col8{\n",
       "            text-align:  left;\n",
       "            text-align:  left;\n",
       "            background-color:  lightgrey;\n",
       "        }#T_8ba49e56_034b_11ec_bcd1_9457a5d83a5brow11_col8{\n",
       "            text-align:  left;\n",
       "            text-align:  left;\n",
       "            background-color:  yellow;\n",
       "            background-color:  lightgrey;\n",
       "        }</style><table id=\"T_8ba49e56_034b_11ec_bcd1_9457a5d83a5b\" ><thead>    <tr>        <th class=\"blank level0\" ></th>        <th class=\"col_heading level0 col0\" >Model</th>        <th class=\"col_heading level0 col1\" >Accuracy</th>        <th class=\"col_heading level0 col2\" >AUC</th>        <th class=\"col_heading level0 col3\" >Recall</th>        <th class=\"col_heading level0 col4\" >Prec.</th>        <th class=\"col_heading level0 col5\" >F1</th>        <th class=\"col_heading level0 col6\" >Kappa</th>        <th class=\"col_heading level0 col7\" >MCC</th>        <th class=\"col_heading level0 col8\" >TT (Sec)</th>    </tr></thead><tbody>\n",
       "                <tr>\n",
       "                        <th id=\"T_8ba49e56_034b_11ec_bcd1_9457a5d83a5blevel0_row0\" class=\"row_heading level0 row0\" >lightgbm</th>\n",
       "                        <td id=\"T_8ba49e56_034b_11ec_bcd1_9457a5d83a5brow0_col0\" class=\"data row0 col0\" >Light Gradient Boosting Machine</td>\n",
       "                        <td id=\"T_8ba49e56_034b_11ec_bcd1_9457a5d83a5brow0_col1\" class=\"data row0 col1\" >0.8042</td>\n",
       "                        <td id=\"T_8ba49e56_034b_11ec_bcd1_9457a5d83a5brow0_col2\" class=\"data row0 col2\" >0.8103</td>\n",
       "                        <td id=\"T_8ba49e56_034b_11ec_bcd1_9457a5d83a5brow0_col3\" class=\"data row0 col3\" >0.6278</td>\n",
       "                        <td id=\"T_8ba49e56_034b_11ec_bcd1_9457a5d83a5brow0_col4\" class=\"data row0 col4\" >0.8036</td>\n",
       "                        <td id=\"T_8ba49e56_034b_11ec_bcd1_9457a5d83a5brow0_col5\" class=\"data row0 col5\" >0.6984</td>\n",
       "                        <td id=\"T_8ba49e56_034b_11ec_bcd1_9457a5d83a5brow0_col6\" class=\"data row0 col6\" >0.5577</td>\n",
       "                        <td id=\"T_8ba49e56_034b_11ec_bcd1_9457a5d83a5brow0_col7\" class=\"data row0 col7\" >0.5713</td>\n",
       "                        <td id=\"T_8ba49e56_034b_11ec_bcd1_9457a5d83a5brow0_col8\" class=\"data row0 col8\" >0.1980</td>\n",
       "            </tr>\n",
       "            <tr>\n",
       "                        <th id=\"T_8ba49e56_034b_11ec_bcd1_9457a5d83a5blevel0_row1\" class=\"row_heading level0 row1\" >xgboost</th>\n",
       "                        <td id=\"T_8ba49e56_034b_11ec_bcd1_9457a5d83a5brow1_col0\" class=\"data row1 col0\" >Extreme Gradient Boosting</td>\n",
       "                        <td id=\"T_8ba49e56_034b_11ec_bcd1_9457a5d83a5brow1_col1\" class=\"data row1 col1\" >0.7965</td>\n",
       "                        <td id=\"T_8ba49e56_034b_11ec_bcd1_9457a5d83a5brow1_col2\" class=\"data row1 col2\" >0.8177</td>\n",
       "                        <td id=\"T_8ba49e56_034b_11ec_bcd1_9457a5d83a5brow1_col3\" class=\"data row1 col3\" >0.6463</td>\n",
       "                        <td id=\"T_8ba49e56_034b_11ec_bcd1_9457a5d83a5brow1_col4\" class=\"data row1 col4\" >0.7688</td>\n",
       "                        <td id=\"T_8ba49e56_034b_11ec_bcd1_9457a5d83a5brow1_col5\" class=\"data row1 col5\" >0.6978</td>\n",
       "                        <td id=\"T_8ba49e56_034b_11ec_bcd1_9457a5d83a5brow1_col6\" class=\"data row1 col6\" >0.5469</td>\n",
       "                        <td id=\"T_8ba49e56_034b_11ec_bcd1_9457a5d83a5brow1_col7\" class=\"data row1 col7\" >0.5547</td>\n",
       "                        <td id=\"T_8ba49e56_034b_11ec_bcd1_9457a5d83a5brow1_col8\" class=\"data row1 col8\" >0.3440</td>\n",
       "            </tr>\n",
       "            <tr>\n",
       "                        <th id=\"T_8ba49e56_034b_11ec_bcd1_9457a5d83a5blevel0_row2\" class=\"row_heading level0 row2\" >gbc</th>\n",
       "                        <td id=\"T_8ba49e56_034b_11ec_bcd1_9457a5d83a5brow2_col0\" class=\"data row2 col0\" >Gradient Boosting Classifier</td>\n",
       "                        <td id=\"T_8ba49e56_034b_11ec_bcd1_9457a5d83a5brow2_col1\" class=\"data row2 col1\" >0.8157</td>\n",
       "                        <td id=\"T_8ba49e56_034b_11ec_bcd1_9457a5d83a5brow2_col2\" class=\"data row2 col2\" >0.8115</td>\n",
       "                        <td id=\"T_8ba49e56_034b_11ec_bcd1_9457a5d83a5brow2_col3\" class=\"data row2 col3\" >0.5729</td>\n",
       "                        <td id=\"T_8ba49e56_034b_11ec_bcd1_9457a5d83a5brow2_col4\" class=\"data row2 col4\" >0.8850</td>\n",
       "                        <td id=\"T_8ba49e56_034b_11ec_bcd1_9457a5d83a5brow2_col5\" class=\"data row2 col5\" >0.6904</td>\n",
       "                        <td id=\"T_8ba49e56_034b_11ec_bcd1_9457a5d83a5brow2_col6\" class=\"data row2 col6\" >0.5696</td>\n",
       "                        <td id=\"T_8ba49e56_034b_11ec_bcd1_9457a5d83a5brow2_col7\" class=\"data row2 col7\" >0.5992</td>\n",
       "                        <td id=\"T_8ba49e56_034b_11ec_bcd1_9457a5d83a5brow2_col8\" class=\"data row2 col8\" >0.0710</td>\n",
       "            </tr>\n",
       "            <tr>\n",
       "                        <th id=\"T_8ba49e56_034b_11ec_bcd1_9457a5d83a5blevel0_row3\" class=\"row_heading level0 row3\" >catboost</th>\n",
       "                        <td id=\"T_8ba49e56_034b_11ec_bcd1_9457a5d83a5brow3_col0\" class=\"data row3 col0\" >CatBoost Classifier</td>\n",
       "                        <td id=\"T_8ba49e56_034b_11ec_bcd1_9457a5d83a5brow3_col1\" class=\"data row3 col1\" >0.8061</td>\n",
       "                        <td id=\"T_8ba49e56_034b_11ec_bcd1_9457a5d83a5brow3_col2\" class=\"data row3 col2\" >0.8086</td>\n",
       "                        <td id=\"T_8ba49e56_034b_11ec_bcd1_9457a5d83a5brow3_col3\" class=\"data row3 col3\" >0.5888</td>\n",
       "                        <td id=\"T_8ba49e56_034b_11ec_bcd1_9457a5d83a5brow3_col4\" class=\"data row3 col4\" >0.8449</td>\n",
       "                        <td id=\"T_8ba49e56_034b_11ec_bcd1_9457a5d83a5brow3_col5\" class=\"data row3 col5\" >0.6866</td>\n",
       "                        <td id=\"T_8ba49e56_034b_11ec_bcd1_9457a5d83a5brow3_col6\" class=\"data row3 col6\" >0.5539</td>\n",
       "                        <td id=\"T_8ba49e56_034b_11ec_bcd1_9457a5d83a5brow3_col7\" class=\"data row3 col7\" >0.5770</td>\n",
       "                        <td id=\"T_8ba49e56_034b_11ec_bcd1_9457a5d83a5brow3_col8\" class=\"data row3 col8\" >1.1230</td>\n",
       "            </tr>\n",
       "            <tr>\n",
       "                        <th id=\"T_8ba49e56_034b_11ec_bcd1_9457a5d83a5blevel0_row4\" class=\"row_heading level0 row4\" >rf</th>\n",
       "                        <td id=\"T_8ba49e56_034b_11ec_bcd1_9457a5d83a5brow4_col0\" class=\"data row4 col0\" >Random Forest Classifier</td>\n",
       "                        <td id=\"T_8ba49e56_034b_11ec_bcd1_9457a5d83a5brow4_col1\" class=\"data row4 col1\" >0.7840</td>\n",
       "                        <td id=\"T_8ba49e56_034b_11ec_bcd1_9457a5d83a5brow4_col2\" class=\"data row4 col2\" >0.7977</td>\n",
       "                        <td id=\"T_8ba49e56_034b_11ec_bcd1_9457a5d83a5brow4_col3\" class=\"data row4 col3\" >0.6413</td>\n",
       "                        <td id=\"T_8ba49e56_034b_11ec_bcd1_9457a5d83a5brow4_col4\" class=\"data row4 col4\" >0.7389</td>\n",
       "                        <td id=\"T_8ba49e56_034b_11ec_bcd1_9457a5d83a5brow4_col5\" class=\"data row4 col5\" >0.6833</td>\n",
       "                        <td id=\"T_8ba49e56_034b_11ec_bcd1_9457a5d83a5brow4_col6\" class=\"data row4 col6\" >0.5214</td>\n",
       "                        <td id=\"T_8ba49e56_034b_11ec_bcd1_9457a5d83a5brow4_col7\" class=\"data row4 col7\" >0.5269</td>\n",
       "                        <td id=\"T_8ba49e56_034b_11ec_bcd1_9457a5d83a5brow4_col8\" class=\"data row4 col8\" >0.2490</td>\n",
       "            </tr>\n",
       "            <tr>\n",
       "                        <th id=\"T_8ba49e56_034b_11ec_bcd1_9457a5d83a5blevel0_row5\" class=\"row_heading level0 row5\" >knn</th>\n",
       "                        <td id=\"T_8ba49e56_034b_11ec_bcd1_9457a5d83a5brow5_col0\" class=\"data row5 col0\" >K Neighbors Classifier</td>\n",
       "                        <td id=\"T_8ba49e56_034b_11ec_bcd1_9457a5d83a5brow5_col1\" class=\"data row5 col1\" >0.7918</td>\n",
       "                        <td id=\"T_8ba49e56_034b_11ec_bcd1_9457a5d83a5brow5_col2\" class=\"data row5 col2\" >0.7863</td>\n",
       "                        <td id=\"T_8ba49e56_034b_11ec_bcd1_9457a5d83a5brow5_col3\" class=\"data row5 col3\" >0.5627</td>\n",
       "                        <td id=\"T_8ba49e56_034b_11ec_bcd1_9457a5d83a5brow5_col4\" class=\"data row5 col4\" >0.8199</td>\n",
       "                        <td id=\"T_8ba49e56_034b_11ec_bcd1_9457a5d83a5brow5_col5\" class=\"data row5 col5\" >0.6621</td>\n",
       "                        <td id=\"T_8ba49e56_034b_11ec_bcd1_9457a5d83a5brow5_col6\" class=\"data row5 col6\" >0.5199</td>\n",
       "                        <td id=\"T_8ba49e56_034b_11ec_bcd1_9457a5d83a5brow5_col7\" class=\"data row5 col7\" >0.5423</td>\n",
       "                        <td id=\"T_8ba49e56_034b_11ec_bcd1_9457a5d83a5brow5_col8\" class=\"data row5 col8\" >0.0310</td>\n",
       "            </tr>\n",
       "            <tr>\n",
       "                        <th id=\"T_8ba49e56_034b_11ec_bcd1_9457a5d83a5blevel0_row6\" class=\"row_heading level0 row6\" >et</th>\n",
       "                        <td id=\"T_8ba49e56_034b_11ec_bcd1_9457a5d83a5brow6_col0\" class=\"data row6 col0\" >Extra Trees Classifier</td>\n",
       "                        <td id=\"T_8ba49e56_034b_11ec_bcd1_9457a5d83a5brow6_col1\" class=\"data row6 col1\" >0.7619</td>\n",
       "                        <td id=\"T_8ba49e56_034b_11ec_bcd1_9457a5d83a5brow6_col2\" class=\"data row6 col2\" >0.7690</td>\n",
       "                        <td id=\"T_8ba49e56_034b_11ec_bcd1_9457a5d83a5brow6_col3\" class=\"data row6 col3\" >0.6359</td>\n",
       "                        <td id=\"T_8ba49e56_034b_11ec_bcd1_9457a5d83a5brow6_col4\" class=\"data row6 col4\" >0.6916</td>\n",
       "                        <td id=\"T_8ba49e56_034b_11ec_bcd1_9457a5d83a5brow6_col5\" class=\"data row6 col5\" >0.6600</td>\n",
       "                        <td id=\"T_8ba49e56_034b_11ec_bcd1_9457a5d83a5brow6_col6\" class=\"data row6 col6\" >0.4780</td>\n",
       "                        <td id=\"T_8ba49e56_034b_11ec_bcd1_9457a5d83a5brow6_col7\" class=\"data row6 col7\" >0.4809</td>\n",
       "                        <td id=\"T_8ba49e56_034b_11ec_bcd1_9457a5d83a5brow6_col8\" class=\"data row6 col8\" >0.2060</td>\n",
       "            </tr>\n",
       "            <tr>\n",
       "                        <th id=\"T_8ba49e56_034b_11ec_bcd1_9457a5d83a5blevel0_row7\" class=\"row_heading level0 row7\" >dt</th>\n",
       "                        <td id=\"T_8ba49e56_034b_11ec_bcd1_9457a5d83a5brow7_col0\" class=\"data row7 col0\" >Decision Tree Classifier</td>\n",
       "                        <td id=\"T_8ba49e56_034b_11ec_bcd1_9457a5d83a5brow7_col1\" class=\"data row7 col1\" >0.7600</td>\n",
       "                        <td id=\"T_8ba49e56_034b_11ec_bcd1_9457a5d83a5brow7_col2\" class=\"data row7 col2\" >0.7393</td>\n",
       "                        <td id=\"T_8ba49e56_034b_11ec_bcd1_9457a5d83a5brow7_col3\" class=\"data row7 col3\" >0.6358</td>\n",
       "                        <td id=\"T_8ba49e56_034b_11ec_bcd1_9457a5d83a5brow7_col4\" class=\"data row7 col4\" >0.6911</td>\n",
       "                        <td id=\"T_8ba49e56_034b_11ec_bcd1_9457a5d83a5brow7_col5\" class=\"data row7 col5\" >0.6585</td>\n",
       "                        <td id=\"T_8ba49e56_034b_11ec_bcd1_9457a5d83a5brow7_col6\" class=\"data row7 col6\" >0.4746</td>\n",
       "                        <td id=\"T_8ba49e56_034b_11ec_bcd1_9457a5d83a5brow7_col7\" class=\"data row7 col7\" >0.4784</td>\n",
       "                        <td id=\"T_8ba49e56_034b_11ec_bcd1_9457a5d83a5brow7_col8\" class=\"data row7 col8\" >0.0180</td>\n",
       "            </tr>\n",
       "            <tr>\n",
       "                        <th id=\"T_8ba49e56_034b_11ec_bcd1_9457a5d83a5blevel0_row8\" class=\"row_heading level0 row8\" >ada</th>\n",
       "                        <td id=\"T_8ba49e56_034b_11ec_bcd1_9457a5d83a5brow8_col0\" class=\"data row8 col0\" >Ada Boost Classifier</td>\n",
       "                        <td id=\"T_8ba49e56_034b_11ec_bcd1_9457a5d83a5brow8_col1\" class=\"data row8 col1\" >0.7946</td>\n",
       "                        <td id=\"T_8ba49e56_034b_11ec_bcd1_9457a5d83a5brow8_col2\" class=\"data row8 col2\" >0.7837</td>\n",
       "                        <td id=\"T_8ba49e56_034b_11ec_bcd1_9457a5d83a5brow8_col3\" class=\"data row8 col3\" >0.5076</td>\n",
       "                        <td id=\"T_8ba49e56_034b_11ec_bcd1_9457a5d83a5brow8_col4\" class=\"data row8 col4\" >0.8927</td>\n",
       "                        <td id=\"T_8ba49e56_034b_11ec_bcd1_9457a5d83a5brow8_col5\" class=\"data row8 col5\" >0.6395</td>\n",
       "                        <td id=\"T_8ba49e56_034b_11ec_bcd1_9457a5d83a5brow8_col6\" class=\"data row8 col6\" >0.5126</td>\n",
       "                        <td id=\"T_8ba49e56_034b_11ec_bcd1_9457a5d83a5brow8_col7\" class=\"data row8 col7\" >0.5557</td>\n",
       "                        <td id=\"T_8ba49e56_034b_11ec_bcd1_9457a5d83a5brow8_col8\" class=\"data row8 col8\" >0.0700</td>\n",
       "            </tr>\n",
       "            <tr>\n",
       "                        <th id=\"T_8ba49e56_034b_11ec_bcd1_9457a5d83a5blevel0_row9\" class=\"row_heading level0 row9\" >lda</th>\n",
       "                        <td id=\"T_8ba49e56_034b_11ec_bcd1_9457a5d83a5brow9_col0\" class=\"data row9 col0\" >Linear Discriminant Analysis</td>\n",
       "                        <td id=\"T_8ba49e56_034b_11ec_bcd1_9457a5d83a5brow9_col1\" class=\"data row9 col1\" >0.7754</td>\n",
       "                        <td id=\"T_8ba49e56_034b_11ec_bcd1_9457a5d83a5brow9_col2\" class=\"data row9 col2\" >0.7754</td>\n",
       "                        <td id=\"T_8ba49e56_034b_11ec_bcd1_9457a5d83a5brow9_col3\" class=\"data row9 col3\" >0.5260</td>\n",
       "                        <td id=\"T_8ba49e56_034b_11ec_bcd1_9457a5d83a5brow9_col4\" class=\"data row9 col4\" >0.7927</td>\n",
       "                        <td id=\"T_8ba49e56_034b_11ec_bcd1_9457a5d83a5brow9_col5\" class=\"data row9 col5\" >0.6293</td>\n",
       "                        <td id=\"T_8ba49e56_034b_11ec_bcd1_9457a5d83a5brow9_col6\" class=\"data row9 col6\" >0.4786</td>\n",
       "                        <td id=\"T_8ba49e56_034b_11ec_bcd1_9457a5d83a5brow9_col7\" class=\"data row9 col7\" >0.5007</td>\n",
       "                        <td id=\"T_8ba49e56_034b_11ec_bcd1_9457a5d83a5brow9_col8\" class=\"data row9 col8\" >0.0730</td>\n",
       "            </tr>\n",
       "            <tr>\n",
       "                        <th id=\"T_8ba49e56_034b_11ec_bcd1_9457a5d83a5blevel0_row10\" class=\"row_heading level0 row10\" >ridge</th>\n",
       "                        <td id=\"T_8ba49e56_034b_11ec_bcd1_9457a5d83a5brow10_col0\" class=\"data row10 col0\" >Ridge Classifier</td>\n",
       "                        <td id=\"T_8ba49e56_034b_11ec_bcd1_9457a5d83a5brow10_col1\" class=\"data row10 col1\" >0.7744</td>\n",
       "                        <td id=\"T_8ba49e56_034b_11ec_bcd1_9457a5d83a5brow10_col2\" class=\"data row10 col2\" >0.0000</td>\n",
       "                        <td id=\"T_8ba49e56_034b_11ec_bcd1_9457a5d83a5brow10_col3\" class=\"data row10 col3\" >0.5182</td>\n",
       "                        <td id=\"T_8ba49e56_034b_11ec_bcd1_9457a5d83a5brow10_col4\" class=\"data row10 col4\" >0.7961</td>\n",
       "                        <td id=\"T_8ba49e56_034b_11ec_bcd1_9457a5d83a5brow10_col5\" class=\"data row10 col5\" >0.6241</td>\n",
       "                        <td id=\"T_8ba49e56_034b_11ec_bcd1_9457a5d83a5brow10_col6\" class=\"data row10 col6\" >0.4746</td>\n",
       "                        <td id=\"T_8ba49e56_034b_11ec_bcd1_9457a5d83a5brow10_col7\" class=\"data row10 col7\" >0.4984</td>\n",
       "                        <td id=\"T_8ba49e56_034b_11ec_bcd1_9457a5d83a5brow10_col8\" class=\"data row10 col8\" >0.0680</td>\n",
       "            </tr>\n",
       "            <tr>\n",
       "                        <th id=\"T_8ba49e56_034b_11ec_bcd1_9457a5d83a5blevel0_row11\" class=\"row_heading level0 row11\" >nb</th>\n",
       "                        <td id=\"T_8ba49e56_034b_11ec_bcd1_9457a5d83a5brow11_col0\" class=\"data row11 col0\" >Naive Bayes</td>\n",
       "                        <td id=\"T_8ba49e56_034b_11ec_bcd1_9457a5d83a5brow11_col1\" class=\"data row11 col1\" >0.7409</td>\n",
       "                        <td id=\"T_8ba49e56_034b_11ec_bcd1_9457a5d83a5brow11_col2\" class=\"data row11 col2\" >0.7334</td>\n",
       "                        <td id=\"T_8ba49e56_034b_11ec_bcd1_9457a5d83a5brow11_col3\" class=\"data row11 col3\" >0.5024</td>\n",
       "                        <td id=\"T_8ba49e56_034b_11ec_bcd1_9457a5d83a5brow11_col4\" class=\"data row11 col4\" >0.7160</td>\n",
       "                        <td id=\"T_8ba49e56_034b_11ec_bcd1_9457a5d83a5brow11_col5\" class=\"data row11 col5\" >0.5850</td>\n",
       "                        <td id=\"T_8ba49e56_034b_11ec_bcd1_9457a5d83a5brow11_col6\" class=\"data row11 col6\" >0.4056</td>\n",
       "                        <td id=\"T_8ba49e56_034b_11ec_bcd1_9457a5d83a5brow11_col7\" class=\"data row11 col7\" >0.4223</td>\n",
       "                        <td id=\"T_8ba49e56_034b_11ec_bcd1_9457a5d83a5brow11_col8\" class=\"data row11 col8\" >0.0090</td>\n",
       "            </tr>\n",
       "            <tr>\n",
       "                        <th id=\"T_8ba49e56_034b_11ec_bcd1_9457a5d83a5blevel0_row12\" class=\"row_heading level0 row12\" >qda</th>\n",
       "                        <td id=\"T_8ba49e56_034b_11ec_bcd1_9457a5d83a5brow12_col0\" class=\"data row12 col0\" >Quadratic Discriminant Analysis</td>\n",
       "                        <td id=\"T_8ba49e56_034b_11ec_bcd1_9457a5d83a5brow12_col1\" class=\"data row12 col1\" >0.5134</td>\n",
       "                        <td id=\"T_8ba49e56_034b_11ec_bcd1_9457a5d83a5brow12_col2\" class=\"data row12 col2\" >0.4958</td>\n",
       "                        <td id=\"T_8ba49e56_034b_11ec_bcd1_9457a5d83a5brow12_col3\" class=\"data row12 col3\" >0.4296</td>\n",
       "                        <td id=\"T_8ba49e56_034b_11ec_bcd1_9457a5d83a5brow12_col4\" class=\"data row12 col4\" >0.3640</td>\n",
       "                        <td id=\"T_8ba49e56_034b_11ec_bcd1_9457a5d83a5brow12_col5\" class=\"data row12 col5\" >0.3868</td>\n",
       "                        <td id=\"T_8ba49e56_034b_11ec_bcd1_9457a5d83a5brow12_col6\" class=\"data row12 col6\" >-0.0073</td>\n",
       "                        <td id=\"T_8ba49e56_034b_11ec_bcd1_9457a5d83a5brow12_col7\" class=\"data row12 col7\" >-0.0079</td>\n",
       "                        <td id=\"T_8ba49e56_034b_11ec_bcd1_9457a5d83a5brow12_col8\" class=\"data row12 col8\" >0.0270</td>\n",
       "            </tr>\n",
       "            <tr>\n",
       "                        <th id=\"T_8ba49e56_034b_11ec_bcd1_9457a5d83a5blevel0_row13\" class=\"row_heading level0 row13\" >svm</th>\n",
       "                        <td id=\"T_8ba49e56_034b_11ec_bcd1_9457a5d83a5brow13_col0\" class=\"data row13 col0\" >SVM - Linear Kernel</td>\n",
       "                        <td id=\"T_8ba49e56_034b_11ec_bcd1_9457a5d83a5brow13_col1\" class=\"data row13 col1\" >0.4462</td>\n",
       "                        <td id=\"T_8ba49e56_034b_11ec_bcd1_9457a5d83a5brow13_col2\" class=\"data row13 col2\" >0.0000</td>\n",
       "                        <td id=\"T_8ba49e56_034b_11ec_bcd1_9457a5d83a5brow13_col3\" class=\"data row13 col3\" >0.7000</td>\n",
       "                        <td id=\"T_8ba49e56_034b_11ec_bcd1_9457a5d83a5brow13_col4\" class=\"data row13 col4\" >0.2564</td>\n",
       "                        <td id=\"T_8ba49e56_034b_11ec_bcd1_9457a5d83a5brow13_col5\" class=\"data row13 col5\" >0.3753</td>\n",
       "                        <td id=\"T_8ba49e56_034b_11ec_bcd1_9457a5d83a5brow13_col6\" class=\"data row13 col6\" >0.0000</td>\n",
       "                        <td id=\"T_8ba49e56_034b_11ec_bcd1_9457a5d83a5brow13_col7\" class=\"data row13 col7\" >0.0000</td>\n",
       "                        <td id=\"T_8ba49e56_034b_11ec_bcd1_9457a5d83a5brow13_col8\" class=\"data row13 col8\" >0.0350</td>\n",
       "            </tr>\n",
       "            <tr>\n",
       "                        <th id=\"T_8ba49e56_034b_11ec_bcd1_9457a5d83a5blevel0_row14\" class=\"row_heading level0 row14\" >lr</th>\n",
       "                        <td id=\"T_8ba49e56_034b_11ec_bcd1_9457a5d83a5brow14_col0\" class=\"data row14 col0\" >Logistic Regression</td>\n",
       "                        <td id=\"T_8ba49e56_034b_11ec_bcd1_9457a5d83a5brow14_col1\" class=\"data row14 col1\" >0.6334</td>\n",
       "                        <td id=\"T_8ba49e56_034b_11ec_bcd1_9457a5d83a5brow14_col2\" class=\"data row14 col2\" >0.2717</td>\n",
       "                        <td id=\"T_8ba49e56_034b_11ec_bcd1_9457a5d83a5brow14_col3\" class=\"data row14 col3\" >0.0000</td>\n",
       "                        <td id=\"T_8ba49e56_034b_11ec_bcd1_9457a5d83a5brow14_col4\" class=\"data row14 col4\" >0.0000</td>\n",
       "                        <td id=\"T_8ba49e56_034b_11ec_bcd1_9457a5d83a5brow14_col5\" class=\"data row14 col5\" >0.0000</td>\n",
       "                        <td id=\"T_8ba49e56_034b_11ec_bcd1_9457a5d83a5brow14_col6\" class=\"data row14 col6\" >0.0000</td>\n",
       "                        <td id=\"T_8ba49e56_034b_11ec_bcd1_9457a5d83a5brow14_col7\" class=\"data row14 col7\" >0.0000</td>\n",
       "                        <td id=\"T_8ba49e56_034b_11ec_bcd1_9457a5d83a5brow14_col8\" class=\"data row14 col8\" >0.5220</td>\n",
       "            </tr>\n",
       "    </tbody></table>"
      ],
      "text/plain": [
       "<pandas.io.formats.style.Styler at 0xd9a7caacd0>"
      ]
     },
     "metadata": {},
     "output_type": "display_data"
    }
   ],
   "source": [
    "#best = compare_models()\n",
    "best = compare_models(sort = 'F1') #default is 'Accuracy', LO CAMBIO POR F1 QUE ES LA INDICADA COMO REFERENCIA"
   ]
  },
  {
   "cell_type": "code",
   "execution_count": 6,
   "metadata": {},
   "outputs": [
    {
     "data": {
      "text/html": [
       "<style  type=\"text/css\" >\n",
       "#T_fcbdd852_034b_11ec_9ed2_9457a5d83a5brow10_col0,#T_fcbdd852_034b_11ec_9ed2_9457a5d83a5brow10_col1,#T_fcbdd852_034b_11ec_9ed2_9457a5d83a5brow10_col2,#T_fcbdd852_034b_11ec_9ed2_9457a5d83a5brow10_col3,#T_fcbdd852_034b_11ec_9ed2_9457a5d83a5brow10_col4,#T_fcbdd852_034b_11ec_9ed2_9457a5d83a5brow10_col5,#T_fcbdd852_034b_11ec_9ed2_9457a5d83a5brow10_col6{\n",
       "            background:  yellow;\n",
       "        }</style><table id=\"T_fcbdd852_034b_11ec_9ed2_9457a5d83a5b\" ><thead>    <tr>        <th class=\"blank level0\" ></th>        <th class=\"col_heading level0 col0\" >Accuracy</th>        <th class=\"col_heading level0 col1\" >AUC</th>        <th class=\"col_heading level0 col2\" >Recall</th>        <th class=\"col_heading level0 col3\" >Prec.</th>        <th class=\"col_heading level0 col4\" >F1</th>        <th class=\"col_heading level0 col5\" >Kappa</th>        <th class=\"col_heading level0 col6\" >MCC</th>    </tr></thead><tbody>\n",
       "                <tr>\n",
       "                        <th id=\"T_fcbdd852_034b_11ec_9ed2_9457a5d83a5blevel0_row0\" class=\"row_heading level0 row0\" >0</th>\n",
       "                        <td id=\"T_fcbdd852_034b_11ec_9ed2_9457a5d83a5brow0_col0\" class=\"data row0 col0\" >0.7714</td>\n",
       "                        <td id=\"T_fcbdd852_034b_11ec_9ed2_9457a5d83a5brow0_col1\" class=\"data row0 col1\" >0.7661</td>\n",
       "                        <td id=\"T_fcbdd852_034b_11ec_9ed2_9457a5d83a5brow0_col2\" class=\"data row0 col2\" >0.7179</td>\n",
       "                        <td id=\"T_fcbdd852_034b_11ec_9ed2_9457a5d83a5brow0_col3\" class=\"data row0 col3\" >0.6829</td>\n",
       "                        <td id=\"T_fcbdd852_034b_11ec_9ed2_9457a5d83a5brow0_col4\" class=\"data row0 col4\" >0.7000</td>\n",
       "                        <td id=\"T_fcbdd852_034b_11ec_9ed2_9457a5d83a5brow0_col5\" class=\"data row0 col5\" >0.5156</td>\n",
       "                        <td id=\"T_fcbdd852_034b_11ec_9ed2_9457a5d83a5brow0_col6\" class=\"data row0 col6\" >0.5160</td>\n",
       "            </tr>\n",
       "            <tr>\n",
       "                        <th id=\"T_fcbdd852_034b_11ec_9ed2_9457a5d83a5blevel0_row1\" class=\"row_heading level0 row1\" >1</th>\n",
       "                        <td id=\"T_fcbdd852_034b_11ec_9ed2_9457a5d83a5brow1_col0\" class=\"data row1 col0\" >0.8095</td>\n",
       "                        <td id=\"T_fcbdd852_034b_11ec_9ed2_9457a5d83a5brow1_col1\" class=\"data row1 col1\" >0.8030</td>\n",
       "                        <td id=\"T_fcbdd852_034b_11ec_9ed2_9457a5d83a5brow1_col2\" class=\"data row1 col2\" >0.6667</td>\n",
       "                        <td id=\"T_fcbdd852_034b_11ec_9ed2_9457a5d83a5brow1_col3\" class=\"data row1 col3\" >0.7879</td>\n",
       "                        <td id=\"T_fcbdd852_034b_11ec_9ed2_9457a5d83a5brow1_col4\" class=\"data row1 col4\" >0.7222</td>\n",
       "                        <td id=\"T_fcbdd852_034b_11ec_9ed2_9457a5d83a5brow1_col5\" class=\"data row1 col5\" >0.5788</td>\n",
       "                        <td id=\"T_fcbdd852_034b_11ec_9ed2_9457a5d83a5brow1_col6\" class=\"data row1 col6\" >0.5835</td>\n",
       "            </tr>\n",
       "            <tr>\n",
       "                        <th id=\"T_fcbdd852_034b_11ec_9ed2_9457a5d83a5blevel0_row2\" class=\"row_heading level0 row2\" >2</th>\n",
       "                        <td id=\"T_fcbdd852_034b_11ec_9ed2_9457a5d83a5brow2_col0\" class=\"data row2 col0\" >0.7885</td>\n",
       "                        <td id=\"T_fcbdd852_034b_11ec_9ed2_9457a5d83a5brow2_col1\" class=\"data row2 col1\" >0.7741</td>\n",
       "                        <td id=\"T_fcbdd852_034b_11ec_9ed2_9457a5d83a5brow2_col2\" class=\"data row2 col2\" >0.7368</td>\n",
       "                        <td id=\"T_fcbdd852_034b_11ec_9ed2_9457a5d83a5brow2_col3\" class=\"data row2 col3\" >0.7000</td>\n",
       "                        <td id=\"T_fcbdd852_034b_11ec_9ed2_9457a5d83a5brow2_col4\" class=\"data row2 col4\" >0.7179</td>\n",
       "                        <td id=\"T_fcbdd852_034b_11ec_9ed2_9457a5d83a5brow2_col5\" class=\"data row2 col5\" >0.5489</td>\n",
       "                        <td id=\"T_fcbdd852_034b_11ec_9ed2_9457a5d83a5brow2_col6\" class=\"data row2 col6\" >0.5494</td>\n",
       "            </tr>\n",
       "            <tr>\n",
       "                        <th id=\"T_fcbdd852_034b_11ec_9ed2_9457a5d83a5blevel0_row3\" class=\"row_heading level0 row3\" >3</th>\n",
       "                        <td id=\"T_fcbdd852_034b_11ec_9ed2_9457a5d83a5brow3_col0\" class=\"data row3 col0\" >0.7308</td>\n",
       "                        <td id=\"T_fcbdd852_034b_11ec_9ed2_9457a5d83a5brow3_col1\" class=\"data row3 col1\" >0.7352</td>\n",
       "                        <td id=\"T_fcbdd852_034b_11ec_9ed2_9457a5d83a5brow3_col2\" class=\"data row3 col2\" >0.6053</td>\n",
       "                        <td id=\"T_fcbdd852_034b_11ec_9ed2_9457a5d83a5brow3_col3\" class=\"data row3 col3\" >0.6389</td>\n",
       "                        <td id=\"T_fcbdd852_034b_11ec_9ed2_9457a5d83a5brow3_col4\" class=\"data row3 col4\" >0.6216</td>\n",
       "                        <td id=\"T_fcbdd852_034b_11ec_9ed2_9457a5d83a5brow3_col5\" class=\"data row3 col5\" >0.4129</td>\n",
       "                        <td id=\"T_fcbdd852_034b_11ec_9ed2_9457a5d83a5brow3_col6\" class=\"data row3 col6\" >0.4133</td>\n",
       "            </tr>\n",
       "            <tr>\n",
       "                        <th id=\"T_fcbdd852_034b_11ec_9ed2_9457a5d83a5blevel0_row4\" class=\"row_heading level0 row4\" >4</th>\n",
       "                        <td id=\"T_fcbdd852_034b_11ec_9ed2_9457a5d83a5brow4_col0\" class=\"data row4 col0\" >0.7692</td>\n",
       "                        <td id=\"T_fcbdd852_034b_11ec_9ed2_9457a5d83a5brow4_col1\" class=\"data row4 col1\" >0.7498</td>\n",
       "                        <td id=\"T_fcbdd852_034b_11ec_9ed2_9457a5d83a5brow4_col2\" class=\"data row4 col2\" >0.6579</td>\n",
       "                        <td id=\"T_fcbdd852_034b_11ec_9ed2_9457a5d83a5brow4_col3\" class=\"data row4 col3\" >0.6944</td>\n",
       "                        <td id=\"T_fcbdd852_034b_11ec_9ed2_9457a5d83a5brow4_col4\" class=\"data row4 col4\" >0.6757</td>\n",
       "                        <td id=\"T_fcbdd852_034b_11ec_9ed2_9457a5d83a5brow4_col5\" class=\"data row4 col5\" >0.4968</td>\n",
       "                        <td id=\"T_fcbdd852_034b_11ec_9ed2_9457a5d83a5brow4_col6\" class=\"data row4 col6\" >0.4972</td>\n",
       "            </tr>\n",
       "            <tr>\n",
       "                        <th id=\"T_fcbdd852_034b_11ec_9ed2_9457a5d83a5blevel0_row5\" class=\"row_heading level0 row5\" >5</th>\n",
       "                        <td id=\"T_fcbdd852_034b_11ec_9ed2_9457a5d83a5brow5_col0\" class=\"data row5 col0\" >0.7404</td>\n",
       "                        <td id=\"T_fcbdd852_034b_11ec_9ed2_9457a5d83a5brow5_col1\" class=\"data row5 col1\" >0.7259</td>\n",
       "                        <td id=\"T_fcbdd852_034b_11ec_9ed2_9457a5d83a5brow5_col2\" class=\"data row5 col2\" >0.6316</td>\n",
       "                        <td id=\"T_fcbdd852_034b_11ec_9ed2_9457a5d83a5brow5_col3\" class=\"data row5 col3\" >0.6486</td>\n",
       "                        <td id=\"T_fcbdd852_034b_11ec_9ed2_9457a5d83a5brow5_col4\" class=\"data row5 col4\" >0.6400</td>\n",
       "                        <td id=\"T_fcbdd852_034b_11ec_9ed2_9457a5d83a5brow5_col5\" class=\"data row5 col5\" >0.4370</td>\n",
       "                        <td id=\"T_fcbdd852_034b_11ec_9ed2_9457a5d83a5brow5_col6\" class=\"data row5 col6\" >0.4371</td>\n",
       "            </tr>\n",
       "            <tr>\n",
       "                        <th id=\"T_fcbdd852_034b_11ec_9ed2_9457a5d83a5blevel0_row6\" class=\"row_heading level0 row6\" >6</th>\n",
       "                        <td id=\"T_fcbdd852_034b_11ec_9ed2_9457a5d83a5brow6_col0\" class=\"data row6 col0\" >0.7885</td>\n",
       "                        <td id=\"T_fcbdd852_034b_11ec_9ed2_9457a5d83a5brow6_col1\" class=\"data row6 col1\" >0.7618</td>\n",
       "                        <td id=\"T_fcbdd852_034b_11ec_9ed2_9457a5d83a5brow6_col2\" class=\"data row6 col2\" >0.7105</td>\n",
       "                        <td id=\"T_fcbdd852_034b_11ec_9ed2_9457a5d83a5brow6_col3\" class=\"data row6 col3\" >0.7105</td>\n",
       "                        <td id=\"T_fcbdd852_034b_11ec_9ed2_9457a5d83a5brow6_col4\" class=\"data row6 col4\" >0.7105</td>\n",
       "                        <td id=\"T_fcbdd852_034b_11ec_9ed2_9457a5d83a5brow6_col5\" class=\"data row6 col5\" >0.5439</td>\n",
       "                        <td id=\"T_fcbdd852_034b_11ec_9ed2_9457a5d83a5brow6_col6\" class=\"data row6 col6\" >0.5439</td>\n",
       "            </tr>\n",
       "            <tr>\n",
       "                        <th id=\"T_fcbdd852_034b_11ec_9ed2_9457a5d83a5blevel0_row7\" class=\"row_heading level0 row7\" >7</th>\n",
       "                        <td id=\"T_fcbdd852_034b_11ec_9ed2_9457a5d83a5brow7_col0\" class=\"data row7 col0\" >0.7596</td>\n",
       "                        <td id=\"T_fcbdd852_034b_11ec_9ed2_9457a5d83a5brow7_col1\" class=\"data row7 col1\" >0.7291</td>\n",
       "                        <td id=\"T_fcbdd852_034b_11ec_9ed2_9457a5d83a5brow7_col2\" class=\"data row7 col2\" >0.6579</td>\n",
       "                        <td id=\"T_fcbdd852_034b_11ec_9ed2_9457a5d83a5brow7_col3\" class=\"data row7 col3\" >0.6757</td>\n",
       "                        <td id=\"T_fcbdd852_034b_11ec_9ed2_9457a5d83a5brow7_col4\" class=\"data row7 col4\" >0.6667</td>\n",
       "                        <td id=\"T_fcbdd852_034b_11ec_9ed2_9457a5d83a5brow7_col5\" class=\"data row7 col5\" >0.4787</td>\n",
       "                        <td id=\"T_fcbdd852_034b_11ec_9ed2_9457a5d83a5brow7_col6\" class=\"data row7 col6\" >0.4789</td>\n",
       "            </tr>\n",
       "            <tr>\n",
       "                        <th id=\"T_fcbdd852_034b_11ec_9ed2_9457a5d83a5blevel0_row8\" class=\"row_heading level0 row8\" >8</th>\n",
       "                        <td id=\"T_fcbdd852_034b_11ec_9ed2_9457a5d83a5brow8_col0\" class=\"data row8 col0\" >0.7788</td>\n",
       "                        <td id=\"T_fcbdd852_034b_11ec_9ed2_9457a5d83a5brow8_col1\" class=\"data row8 col1\" >0.7135</td>\n",
       "                        <td id=\"T_fcbdd852_034b_11ec_9ed2_9457a5d83a5brow8_col2\" class=\"data row8 col2\" >0.5000</td>\n",
       "                        <td id=\"T_fcbdd852_034b_11ec_9ed2_9457a5d83a5brow8_col3\" class=\"data row8 col3\" >0.8261</td>\n",
       "                        <td id=\"T_fcbdd852_034b_11ec_9ed2_9457a5d83a5brow8_col4\" class=\"data row8 col4\" >0.6230</td>\n",
       "                        <td id=\"T_fcbdd852_034b_11ec_9ed2_9457a5d83a5brow8_col5\" class=\"data row8 col5\" >0.4795</td>\n",
       "                        <td id=\"T_fcbdd852_034b_11ec_9ed2_9457a5d83a5brow8_col6\" class=\"data row8 col6\" >0.5098</td>\n",
       "            </tr>\n",
       "            <tr>\n",
       "                        <th id=\"T_fcbdd852_034b_11ec_9ed2_9457a5d83a5blevel0_row9\" class=\"row_heading level0 row9\" >9</th>\n",
       "                        <td id=\"T_fcbdd852_034b_11ec_9ed2_9457a5d83a5brow9_col0\" class=\"data row9 col0\" >0.6635</td>\n",
       "                        <td id=\"T_fcbdd852_034b_11ec_9ed2_9457a5d83a5brow9_col1\" class=\"data row9 col1\" >0.6340</td>\n",
       "                        <td id=\"T_fcbdd852_034b_11ec_9ed2_9457a5d83a5brow9_col2\" class=\"data row9 col2\" >0.4737</td>\n",
       "                        <td id=\"T_fcbdd852_034b_11ec_9ed2_9457a5d83a5brow9_col3\" class=\"data row9 col3\" >0.5455</td>\n",
       "                        <td id=\"T_fcbdd852_034b_11ec_9ed2_9457a5d83a5brow9_col4\" class=\"data row9 col4\" >0.5070</td>\n",
       "                        <td id=\"T_fcbdd852_034b_11ec_9ed2_9457a5d83a5brow9_col5\" class=\"data row9 col5\" >0.2535</td>\n",
       "                        <td id=\"T_fcbdd852_034b_11ec_9ed2_9457a5d83a5brow9_col6\" class=\"data row9 col6\" >0.2549</td>\n",
       "            </tr>\n",
       "            <tr>\n",
       "                        <th id=\"T_fcbdd852_034b_11ec_9ed2_9457a5d83a5blevel0_row10\" class=\"row_heading level0 row10\" >Mean</th>\n",
       "                        <td id=\"T_fcbdd852_034b_11ec_9ed2_9457a5d83a5brow10_col0\" class=\"data row10 col0\" >0.7600</td>\n",
       "                        <td id=\"T_fcbdd852_034b_11ec_9ed2_9457a5d83a5brow10_col1\" class=\"data row10 col1\" >0.7393</td>\n",
       "                        <td id=\"T_fcbdd852_034b_11ec_9ed2_9457a5d83a5brow10_col2\" class=\"data row10 col2\" >0.6358</td>\n",
       "                        <td id=\"T_fcbdd852_034b_11ec_9ed2_9457a5d83a5brow10_col3\" class=\"data row10 col3\" >0.6911</td>\n",
       "                        <td id=\"T_fcbdd852_034b_11ec_9ed2_9457a5d83a5brow10_col4\" class=\"data row10 col4\" >0.6585</td>\n",
       "                        <td id=\"T_fcbdd852_034b_11ec_9ed2_9457a5d83a5brow10_col5\" class=\"data row10 col5\" >0.4746</td>\n",
       "                        <td id=\"T_fcbdd852_034b_11ec_9ed2_9457a5d83a5brow10_col6\" class=\"data row10 col6\" >0.4784</td>\n",
       "            </tr>\n",
       "            <tr>\n",
       "                        <th id=\"T_fcbdd852_034b_11ec_9ed2_9457a5d83a5blevel0_row11\" class=\"row_heading level0 row11\" >SD</th>\n",
       "                        <td id=\"T_fcbdd852_034b_11ec_9ed2_9457a5d83a5brow11_col0\" class=\"data row11 col0\" >0.0390</td>\n",
       "                        <td id=\"T_fcbdd852_034b_11ec_9ed2_9457a5d83a5brow11_col1\" class=\"data row11 col1\" >0.0432</td>\n",
       "                        <td id=\"T_fcbdd852_034b_11ec_9ed2_9457a5d83a5brow11_col2\" class=\"data row11 col2\" >0.0838</td>\n",
       "                        <td id=\"T_fcbdd852_034b_11ec_9ed2_9457a5d83a5brow11_col3\" class=\"data row11 col3\" >0.0736</td>\n",
       "                        <td id=\"T_fcbdd852_034b_11ec_9ed2_9457a5d83a5brow11_col4\" class=\"data row11 col4\" >0.0619</td>\n",
       "                        <td id=\"T_fcbdd852_034b_11ec_9ed2_9457a5d83a5brow11_col5\" class=\"data row11 col5\" >0.0880</td>\n",
       "                        <td id=\"T_fcbdd852_034b_11ec_9ed2_9457a5d83a5brow11_col6\" class=\"data row11 col6\" >0.0889</td>\n",
       "            </tr>\n",
       "    </tbody></table>"
      ],
      "text/plain": [
       "<pandas.io.formats.style.Styler at 0xd9a7ee62e0>"
      ]
     },
     "metadata": {},
     "output_type": "display_data"
    }
   ],
   "source": [
    "#Crear un modelo para identificar la importancia de las variables\n",
    "dt=create_model(\"dt\")"
   ]
  },
  {
   "cell_type": "code",
   "execution_count": 8,
   "metadata": {},
   "outputs": [
    {
     "data": {
      "image/png": "[encoded data removed]",
      "text/plain": [
       "<Figure size 800x500 with 1 Axes>"
      ]
     },
     "metadata": {},
     "output_type": "display_data"
    }
   ],
   "source": [
    "plot_model(dt, plot = 'feature')"
   ]
  },
  {
   "cell_type": "code",
   "execution_count": 10,
   "metadata": {},
   "outputs": [
    {
     "data": {
      "text/html": [
       "<style  type=\"text/css\" >\n",
       "#T_4a44b40a_034c_11ec_9f6c_9457a5d83a5brow10_col0,#T_4a44b40a_034c_11ec_9f6c_9457a5d83a5brow10_col1,#T_4a44b40a_034c_11ec_9f6c_9457a5d83a5brow10_col2,#T_4a44b40a_034c_11ec_9f6c_9457a5d83a5brow10_col3,#T_4a44b40a_034c_11ec_9f6c_9457a5d83a5brow10_col4,#T_4a44b40a_034c_11ec_9f6c_9457a5d83a5brow10_col5,#T_4a44b40a_034c_11ec_9f6c_9457a5d83a5brow10_col6{\n",
       "            background:  yellow;\n",
       "        }</style><table id=\"T_4a44b40a_034c_11ec_9f6c_9457a5d83a5b\" ><thead>    <tr>        <th class=\"blank level0\" ></th>        <th class=\"col_heading level0 col0\" >Accuracy</th>        <th class=\"col_heading level0 col1\" >AUC</th>        <th class=\"col_heading level0 col2\" >Recall</th>        <th class=\"col_heading level0 col3\" >Prec.</th>        <th class=\"col_heading level0 col4\" >F1</th>        <th class=\"col_heading level0 col5\" >Kappa</th>        <th class=\"col_heading level0 col6\" >MCC</th>    </tr></thead><tbody>\n",
       "                <tr>\n",
       "                        <th id=\"T_4a44b40a_034c_11ec_9f6c_9457a5d83a5blevel0_row0\" class=\"row_heading level0 row0\" >0</th>\n",
       "                        <td id=\"T_4a44b40a_034c_11ec_9f6c_9457a5d83a5brow0_col0\" class=\"data row0 col0\" >0.7905</td>\n",
       "                        <td id=\"T_4a44b40a_034c_11ec_9f6c_9457a5d83a5brow0_col1\" class=\"data row0 col1\" >0.8028</td>\n",
       "                        <td id=\"T_4a44b40a_034c_11ec_9f6c_9457a5d83a5brow0_col2\" class=\"data row0 col2\" >0.6923</td>\n",
       "                        <td id=\"T_4a44b40a_034c_11ec_9f6c_9457a5d83a5brow0_col3\" class=\"data row0 col3\" >0.7297</td>\n",
       "                        <td id=\"T_4a44b40a_034c_11ec_9f6c_9457a5d83a5brow0_col4\" class=\"data row0 col4\" >0.7105</td>\n",
       "                        <td id=\"T_4a44b40a_034c_11ec_9f6c_9457a5d83a5brow0_col5\" class=\"data row0 col5\" >0.5465</td>\n",
       "                        <td id=\"T_4a44b40a_034c_11ec_9f6c_9457a5d83a5brow0_col6\" class=\"data row0 col6\" >0.5470</td>\n",
       "            </tr>\n",
       "            <tr>\n",
       "                        <th id=\"T_4a44b40a_034c_11ec_9f6c_9457a5d83a5blevel0_row1\" class=\"row_heading level0 row1\" >1</th>\n",
       "                        <td id=\"T_4a44b40a_034c_11ec_9f6c_9457a5d83a5brow1_col0\" class=\"data row1 col0\" >0.8381</td>\n",
       "                        <td id=\"T_4a44b40a_034c_11ec_9f6c_9457a5d83a5brow1_col1\" class=\"data row1 col1\" >0.8497</td>\n",
       "                        <td id=\"T_4a44b40a_034c_11ec_9f6c_9457a5d83a5brow1_col2\" class=\"data row1 col2\" >0.7179</td>\n",
       "                        <td id=\"T_4a44b40a_034c_11ec_9f6c_9457a5d83a5brow1_col3\" class=\"data row1 col3\" >0.8235</td>\n",
       "                        <td id=\"T_4a44b40a_034c_11ec_9f6c_9457a5d83a5brow1_col4\" class=\"data row1 col4\" >0.7671</td>\n",
       "                        <td id=\"T_4a44b40a_034c_11ec_9f6c_9457a5d83a5brow1_col5\" class=\"data row1 col5\" >0.6439</td>\n",
       "                        <td id=\"T_4a44b40a_034c_11ec_9f6c_9457a5d83a5brow1_col6\" class=\"data row1 col6\" >0.6475</td>\n",
       "            </tr>\n",
       "            <tr>\n",
       "                        <th id=\"T_4a44b40a_034c_11ec_9f6c_9457a5d83a5blevel0_row2\" class=\"row_heading level0 row2\" >2</th>\n",
       "                        <td id=\"T_4a44b40a_034c_11ec_9f6c_9457a5d83a5brow2_col0\" class=\"data row2 col0\" >0.7596</td>\n",
       "                        <td id=\"T_4a44b40a_034c_11ec_9f6c_9457a5d83a5brow2_col1\" class=\"data row2 col1\" >0.8236</td>\n",
       "                        <td id=\"T_4a44b40a_034c_11ec_9f6c_9457a5d83a5brow2_col2\" class=\"data row2 col2\" >0.7105</td>\n",
       "                        <td id=\"T_4a44b40a_034c_11ec_9f6c_9457a5d83a5brow2_col3\" class=\"data row2 col3\" >0.6585</td>\n",
       "                        <td id=\"T_4a44b40a_034c_11ec_9f6c_9457a5d83a5brow2_col4\" class=\"data row2 col4\" >0.6835</td>\n",
       "                        <td id=\"T_4a44b40a_034c_11ec_9f6c_9457a5d83a5brow2_col5\" class=\"data row2 col5\" >0.4902</td>\n",
       "                        <td id=\"T_4a44b40a_034c_11ec_9f6c_9457a5d83a5brow2_col6\" class=\"data row2 col6\" >0.4911</td>\n",
       "            </tr>\n",
       "            <tr>\n",
       "                        <th id=\"T_4a44b40a_034c_11ec_9f6c_9457a5d83a5blevel0_row3\" class=\"row_heading level0 row3\" >3</th>\n",
       "                        <td id=\"T_4a44b40a_034c_11ec_9f6c_9457a5d83a5brow3_col0\" class=\"data row3 col0\" >0.7500</td>\n",
       "                        <td id=\"T_4a44b40a_034c_11ec_9f6c_9457a5d83a5brow3_col1\" class=\"data row3 col1\" >0.7781</td>\n",
       "                        <td id=\"T_4a44b40a_034c_11ec_9f6c_9457a5d83a5brow3_col2\" class=\"data row3 col2\" >0.6316</td>\n",
       "                        <td id=\"T_4a44b40a_034c_11ec_9f6c_9457a5d83a5brow3_col3\" class=\"data row3 col3\" >0.6667</td>\n",
       "                        <td id=\"T_4a44b40a_034c_11ec_9f6c_9457a5d83a5brow3_col4\" class=\"data row3 col4\" >0.6486</td>\n",
       "                        <td id=\"T_4a44b40a_034c_11ec_9f6c_9457a5d83a5brow3_col5\" class=\"data row3 col5\" >0.4548</td>\n",
       "                        <td id=\"T_4a44b40a_034c_11ec_9f6c_9457a5d83a5brow3_col6\" class=\"data row3 col6\" >0.4552</td>\n",
       "            </tr>\n",
       "            <tr>\n",
       "                        <th id=\"T_4a44b40a_034c_11ec_9f6c_9457a5d83a5blevel0_row4\" class=\"row_heading level0 row4\" >4</th>\n",
       "                        <td id=\"T_4a44b40a_034c_11ec_9f6c_9457a5d83a5brow4_col0\" class=\"data row4 col0\" >0.8269</td>\n",
       "                        <td id=\"T_4a44b40a_034c_11ec_9f6c_9457a5d83a5brow4_col1\" class=\"data row4 col1\" >0.8511</td>\n",
       "                        <td id=\"T_4a44b40a_034c_11ec_9f6c_9457a5d83a5brow4_col2\" class=\"data row4 col2\" >0.6053</td>\n",
       "                        <td id=\"T_4a44b40a_034c_11ec_9f6c_9457a5d83a5brow4_col3\" class=\"data row4 col3\" >0.8846</td>\n",
       "                        <td id=\"T_4a44b40a_034c_11ec_9f6c_9457a5d83a5brow4_col4\" class=\"data row4 col4\" >0.7188</td>\n",
       "                        <td id=\"T_4a44b40a_034c_11ec_9f6c_9457a5d83a5brow4_col5\" class=\"data row4 col5\" >0.6000</td>\n",
       "                        <td id=\"T_4a44b40a_034c_11ec_9f6c_9457a5d83a5brow4_col6\" class=\"data row4 col6\" >0.6225</td>\n",
       "            </tr>\n",
       "            <tr>\n",
       "                        <th id=\"T_4a44b40a_034c_11ec_9f6c_9457a5d83a5blevel0_row5\" class=\"row_heading level0 row5\" >5</th>\n",
       "                        <td id=\"T_4a44b40a_034c_11ec_9f6c_9457a5d83a5brow5_col0\" class=\"data row5 col0\" >0.8365</td>\n",
       "                        <td id=\"T_4a44b40a_034c_11ec_9f6c_9457a5d83a5brow5_col1\" class=\"data row5 col1\" >0.8046</td>\n",
       "                        <td id=\"T_4a44b40a_034c_11ec_9f6c_9457a5d83a5brow5_col2\" class=\"data row5 col2\" >0.7368</td>\n",
       "                        <td id=\"T_4a44b40a_034c_11ec_9f6c_9457a5d83a5brow5_col3\" class=\"data row5 col3\" >0.8000</td>\n",
       "                        <td id=\"T_4a44b40a_034c_11ec_9f6c_9457a5d83a5brow5_col4\" class=\"data row5 col4\" >0.7671</td>\n",
       "                        <td id=\"T_4a44b40a_034c_11ec_9f6c_9457a5d83a5brow5_col5\" class=\"data row5 col5\" >0.6415</td>\n",
       "                        <td id=\"T_4a44b40a_034c_11ec_9f6c_9457a5d83a5brow5_col6\" class=\"data row5 col6\" >0.6428</td>\n",
       "            </tr>\n",
       "            <tr>\n",
       "                        <th id=\"T_4a44b40a_034c_11ec_9f6c_9457a5d83a5blevel0_row6\" class=\"row_heading level0 row6\" >6</th>\n",
       "                        <td id=\"T_4a44b40a_034c_11ec_9f6c_9457a5d83a5brow6_col0\" class=\"data row6 col0\" >0.8077</td>\n",
       "                        <td id=\"T_4a44b40a_034c_11ec_9f6c_9457a5d83a5brow6_col1\" class=\"data row6 col1\" >0.8347</td>\n",
       "                        <td id=\"T_4a44b40a_034c_11ec_9f6c_9457a5d83a5brow6_col2\" class=\"data row6 col2\" >0.6842</td>\n",
       "                        <td id=\"T_4a44b40a_034c_11ec_9f6c_9457a5d83a5brow6_col3\" class=\"data row6 col3\" >0.7647</td>\n",
       "                        <td id=\"T_4a44b40a_034c_11ec_9f6c_9457a5d83a5brow6_col4\" class=\"data row6 col4\" >0.7222</td>\n",
       "                        <td id=\"T_4a44b40a_034c_11ec_9f6c_9457a5d83a5brow6_col5\" class=\"data row6 col5\" >0.5759</td>\n",
       "                        <td id=\"T_4a44b40a_034c_11ec_9f6c_9457a5d83a5brow6_col6\" class=\"data row6 col6\" >0.5779</td>\n",
       "            </tr>\n",
       "            <tr>\n",
       "                        <th id=\"T_4a44b40a_034c_11ec_9f6c_9457a5d83a5blevel0_row7\" class=\"row_heading level0 row7\" >7</th>\n",
       "                        <td id=\"T_4a44b40a_034c_11ec_9f6c_9457a5d83a5brow7_col0\" class=\"data row7 col0\" >0.8077</td>\n",
       "                        <td id=\"T_4a44b40a_034c_11ec_9f6c_9457a5d83a5brow7_col1\" class=\"data row7 col1\" >0.8142</td>\n",
       "                        <td id=\"T_4a44b40a_034c_11ec_9f6c_9457a5d83a5brow7_col2\" class=\"data row7 col2\" >0.6316</td>\n",
       "                        <td id=\"T_4a44b40a_034c_11ec_9f6c_9457a5d83a5brow7_col3\" class=\"data row7 col3\" >0.8000</td>\n",
       "                        <td id=\"T_4a44b40a_034c_11ec_9f6c_9457a5d83a5brow7_col4\" class=\"data row7 col4\" >0.7059</td>\n",
       "                        <td id=\"T_4a44b40a_034c_11ec_9f6c_9457a5d83a5brow7_col5\" class=\"data row7 col5\" >0.5659</td>\n",
       "                        <td id=\"T_4a44b40a_034c_11ec_9f6c_9457a5d83a5brow7_col6\" class=\"data row7 col6\" >0.5747</td>\n",
       "            </tr>\n",
       "            <tr>\n",
       "                        <th id=\"T_4a44b40a_034c_11ec_9f6c_9457a5d83a5blevel0_row8\" class=\"row_heading level0 row8\" >8</th>\n",
       "                        <td id=\"T_4a44b40a_034c_11ec_9f6c_9457a5d83a5brow8_col0\" class=\"data row8 col0\" >0.8077</td>\n",
       "                        <td id=\"T_4a44b40a_034c_11ec_9f6c_9457a5d83a5brow8_col1\" class=\"data row8 col1\" >0.8521</td>\n",
       "                        <td id=\"T_4a44b40a_034c_11ec_9f6c_9457a5d83a5brow8_col2\" class=\"data row8 col2\" >0.6053</td>\n",
       "                        <td id=\"T_4a44b40a_034c_11ec_9f6c_9457a5d83a5brow8_col3\" class=\"data row8 col3\" >0.8214</td>\n",
       "                        <td id=\"T_4a44b40a_034c_11ec_9f6c_9457a5d83a5brow8_col4\" class=\"data row8 col4\" >0.6970</td>\n",
       "                        <td id=\"T_4a44b40a_034c_11ec_9f6c_9457a5d83a5brow8_col5\" class=\"data row8 col5\" >0.5608</td>\n",
       "                        <td id=\"T_4a44b40a_034c_11ec_9f6c_9457a5d83a5brow8_col6\" class=\"data row8 col6\" >0.5748</td>\n",
       "            </tr>\n",
       "            <tr>\n",
       "                        <th id=\"T_4a44b40a_034c_11ec_9f6c_9457a5d83a5blevel0_row9\" class=\"row_heading level0 row9\" >9</th>\n",
       "                        <td id=\"T_4a44b40a_034c_11ec_9f6c_9457a5d83a5brow9_col0\" class=\"data row9 col0\" >0.7404</td>\n",
       "                        <td id=\"T_4a44b40a_034c_11ec_9f6c_9457a5d83a5brow9_col1\" class=\"data row9 col1\" >0.7659</td>\n",
       "                        <td id=\"T_4a44b40a_034c_11ec_9f6c_9457a5d83a5brow9_col2\" class=\"data row9 col2\" >0.4474</td>\n",
       "                        <td id=\"T_4a44b40a_034c_11ec_9f6c_9457a5d83a5brow9_col3\" class=\"data row9 col3\" >0.7391</td>\n",
       "                        <td id=\"T_4a44b40a_034c_11ec_9f6c_9457a5d83a5brow9_col4\" class=\"data row9 col4\" >0.5574</td>\n",
       "                        <td id=\"T_4a44b40a_034c_11ec_9f6c_9457a5d83a5brow9_col5\" class=\"data row9 col5\" >0.3890</td>\n",
       "                        <td id=\"T_4a44b40a_034c_11ec_9f6c_9457a5d83a5brow9_col6\" class=\"data row9 col6\" >0.4136</td>\n",
       "            </tr>\n",
       "            <tr>\n",
       "                        <th id=\"T_4a44b40a_034c_11ec_9f6c_9457a5d83a5blevel0_row10\" class=\"row_heading level0 row10\" >Mean</th>\n",
       "                        <td id=\"T_4a44b40a_034c_11ec_9f6c_9457a5d83a5brow10_col0\" class=\"data row10 col0\" >0.7965</td>\n",
       "                        <td id=\"T_4a44b40a_034c_11ec_9f6c_9457a5d83a5brow10_col1\" class=\"data row10 col1\" >0.8177</td>\n",
       "                        <td id=\"T_4a44b40a_034c_11ec_9f6c_9457a5d83a5brow10_col2\" class=\"data row10 col2\" >0.6463</td>\n",
       "                        <td id=\"T_4a44b40a_034c_11ec_9f6c_9457a5d83a5brow10_col3\" class=\"data row10 col3\" >0.7688</td>\n",
       "                        <td id=\"T_4a44b40a_034c_11ec_9f6c_9457a5d83a5brow10_col4\" class=\"data row10 col4\" >0.6978</td>\n",
       "                        <td id=\"T_4a44b40a_034c_11ec_9f6c_9457a5d83a5brow10_col5\" class=\"data row10 col5\" >0.5469</td>\n",
       "                        <td id=\"T_4a44b40a_034c_11ec_9f6c_9457a5d83a5brow10_col6\" class=\"data row10 col6\" >0.5547</td>\n",
       "            </tr>\n",
       "            <tr>\n",
       "                        <th id=\"T_4a44b40a_034c_11ec_9f6c_9457a5d83a5blevel0_row11\" class=\"row_heading level0 row11\" >SD</th>\n",
       "                        <td id=\"T_4a44b40a_034c_11ec_9f6c_9457a5d83a5brow11_col0\" class=\"data row11 col0\" >0.0337</td>\n",
       "                        <td id=\"T_4a44b40a_034c_11ec_9f6c_9457a5d83a5brow11_col1\" class=\"data row11 col1\" >0.0288</td>\n",
       "                        <td id=\"T_4a44b40a_034c_11ec_9f6c_9457a5d83a5brow11_col2\" class=\"data row11 col2\" >0.0802</td>\n",
       "                        <td id=\"T_4a44b40a_034c_11ec_9f6c_9457a5d83a5brow11_col3\" class=\"data row11 col3\" >0.0679</td>\n",
       "                        <td id=\"T_4a44b40a_034c_11ec_9f6c_9457a5d83a5brow11_col4\" class=\"data row11 col4\" >0.0576</td>\n",
       "                        <td id=\"T_4a44b40a_034c_11ec_9f6c_9457a5d83a5brow11_col5\" class=\"data row11 col5\" >0.0769</td>\n",
       "                        <td id=\"T_4a44b40a_034c_11ec_9f6c_9457a5d83a5brow11_col6\" class=\"data row11 col6\" >0.0750</td>\n",
       "            </tr>\n",
       "    </tbody></table>"
      ],
      "text/plain": [
       "<pandas.io.formats.style.Styler at 0xd9a8a227c0>"
      ]
     },
     "metadata": {},
     "output_type": "display_data"
    }
   ],
   "source": [
    "#Crear un modelo para identificar la importancia de las variables\n",
    "xgb=create_model(\"xgboost\")"
   ]
  },
  {
   "cell_type": "code",
   "execution_count": 11,
   "metadata": {},
   "outputs": [
    {
     "data": {
      "image/png": "[encoded data removed]",
      "text/plain": [
       "<Figure size 800x500 with 1 Axes>"
      ]
     },
     "metadata": {},
     "output_type": "display_data"
    }
   ],
   "source": [
    "plot_model(xgb, plot = 'feature')"
   ]
  },
  {
   "cell_type": "markdown",
   "metadata": {},
   "source": [
    "### Dividimos los datos en train y validation \n",
    "\n",
    "Para tener la posibilidad de evaluar los diferentes modelos en un conjunto de validación"
   ]
  },
  {
   "cell_type": "code",
   "execution_count": 12,
   "metadata": {},
   "outputs": [],
   "source": [
    "# The data for training the models\n",
    "X_train = train_df.drop(columns=[\"Customer\", \"TravelInsurance\"])\n",
    "y_train = train_df[\"TravelInsurance\"].values"
   ]
  },
  {
   "cell_type": "code",
   "execution_count": 13,
   "metadata": {},
   "outputs": [],
   "source": [
    "X_train_, X_val, y_train_, y_val = train_test_split(X_train, y_train, test_size=0.2)"
   ]
  },
  {
   "cell_type": "code",
   "execution_count": 14,
   "metadata": {},
   "outputs": [
    {
     "data": {
      "text/plain": [
       "((1192, 8), (298, 8), (1192,), (298,))"
      ]
     },
     "execution_count": 14,
     "metadata": {},
     "output_type": "execute_result"
    }
   ],
   "source": [
    "X_train_.shape, X_val.shape, y_train_.shape, y_val.shape"
   ]
  },
  {
   "cell_type": "markdown",
   "metadata": {},
   "source": [
    "**Repaso el modelo baseline**\n",
    "\n",
    "Pero con la división de grupo de train reducido y validación, ahora."
   ]
  },
  {
   "cell_type": "code",
   "execution_count": 21,
   "metadata": {},
   "outputs": [],
   "source": [
    "#Pre-procesamiento transformaciones\n",
    "transformer = make_column_transformer(\n",
    "    (KBinsDiscretizer(n_bins=5, encode=\"ordinal\", strategy=\"quantile\"), [\"Age\", \"AnnualIncome\"]),\n",
    "    (OneHotEncoder(categories=\"auto\", dtype=\"int\", handle_unknown=\"ignore\"),\n",
    "     [\"Employment Type\", \"GraduateOrNot\", \"FamilyMembers\", \"FrequentFlyer\", \"EverTravelledAbroad\"]),\n",
    "    remainder=\"passthrough\")\n",
    "\n",
    "#Usó absolutamente todas las variables del dataset, \"remainder=\"passthrough\"\" le indica que lo que no esté mencionado, pasa como está."
   ]
  },
  {
   "cell_type": "code",
   "execution_count": 22,
   "metadata": {},
   "outputs": [],
   "source": [
    "X_train_p=transformer.fit_transform(X_train_)   #aplico sobre todas las columnas \n",
    "X_val_p=transformer.transform(X_val)   "
   ]
  },
  {
   "cell_type": "code",
   "execution_count": 23,
   "metadata": {},
   "outputs": [],
   "source": [
    "#Los parámetros del modelo baseline son\n",
    "baseline_params={\n",
    "    'criterion': 'entropy', \n",
    "    'max_depth': 10, \n",
    "    'min_samples_leaf': 5}"
   ]
  },
  {
   "cell_type": "code",
   "execution_count": 24,
   "metadata": {},
   "outputs": [
    {
     "data": {
      "text/plain": [
       "DecisionTreeClassifier(ccp_alpha=0.0, class_weight=None, criterion='entropy',\n",
       "                       max_depth=10, max_features=None, max_leaf_nodes=None,\n",
       "                       min_impurity_decrease=0.0, min_impurity_split=None,\n",
       "                       min_samples_leaf=5, min_samples_split=2,\n",
       "                       min_weight_fraction_leaf=0.0, presort='deprecated',\n",
       "                       random_state=42, splitter='best')"
      ]
     },
     "execution_count": 24,
     "metadata": {},
     "output_type": "execute_result"
    }
   ],
   "source": [
    "tree_baseline = DecisionTreeClassifier(criterion=\"entropy\", max_depth= 10, min_samples_leaf= 5, random_state=42)\n",
    "tree_baseline.fit(X_train_p, y_train_)"
   ]
  },
  {
   "cell_type": "code",
   "execution_count": 25,
   "metadata": {},
   "outputs": [
    {
     "name": "stdout",
     "output_type": "stream",
     "text": [
      "MÉTRICAS CONJUNTO DE TRAIN\n",
      "              precision    recall  f1-score   support\n",
      "\n",
      "           0       0.82      0.95      0.88       758\n",
      "           1       0.89      0.64      0.74       434\n",
      "\n",
      "    accuracy                           0.84      1192\n",
      "   macro avg       0.85      0.80      0.81      1192\n",
      "weighted avg       0.85      0.84      0.83      1192\n",
      "\n",
      "MÉTRICAS CONJUNTO DE VALIDACIÓN\n",
      "              precision    recall  f1-score   support\n",
      "\n",
      "           0       0.83      0.95      0.89       200\n",
      "           1       0.86      0.61      0.71        98\n",
      "\n",
      "    accuracy                           0.84       298\n",
      "   macro avg       0.85      0.78      0.80       298\n",
      "weighted avg       0.84      0.84      0.83       298\n",
      "\n"
     ]
    }
   ],
   "source": [
    "print(\"MÉTRICAS CONJUNTO DE TRAIN\")\n",
    "print(classification_report(y_train_, tree_baseline.predict(X_train_p)))\n",
    "print(\"MÉTRICAS CONJUNTO DE VALIDACIÓN\")\n",
    "print(classification_report(y_val, tree_baseline.predict(X_val_p)))"
   ]
  },
  {
   "cell_type": "markdown",
   "metadata": {},
   "source": [
    "### Otros modelos para analizar este problema de clasificación"
   ]
  },
  {
   "cell_type": "code",
   "execution_count": 26,
   "metadata": {},
   "outputs": [],
   "source": [
    "#Pre-procesamiento con pipelines para hacer más sencillas las variantes (idem versión anterior)\n",
    "variables_num=[\"Age\", \"AnnualIncome\"]\n",
    "variables_cat=[\"Employment Type\", \"GraduateOrNot\", \"FamilyMembers\", \"FrequentFlyer\", \"EverTravelledAbroad\", \"ChronicDiseases\"]\n",
    "\n",
    "Xtrain=X_train_[variables_num+variables_cat]\n",
    "Xval=X_val[variables_num+variables_cat]\n",
    "\n",
    "transf_num=Pipeline([('select_num_columns', SelectColumnsTransformer(variables_num)),\n",
    "                    ('kbins_discretizer', KBinsDiscretizer(n_bins=5, encode=\"ordinal\", strategy=\"quantile\"))      \n",
    "                    ])\n",
    "\n",
    "transf_cat=Pipeline([('select_cat_columns', SelectColumnsTransformer(variables_cat)),\n",
    "                    ('one_hot_enc', OneHotEncoder(categories=\"auto\", dtype=\"int\", handle_unknown=\"ignore\"))      \n",
    "                    ])\n",
    "\n",
    "pipeline_transformer = ColumnTransformer([('num', transf_num, variables_num),\n",
    "                                        ('cat', transf_cat, variables_cat)\n",
    "                                        ])\n",
    "\n",
    "train = pipeline_transformer.fit_transform(Xtrain)\n",
    "val = pipeline_transformer.fit_transform(Xval)"
   ]
  },
  {
   "cell_type": "code",
   "execution_count": 42,
   "metadata": {},
   "outputs": [],
   "source": [
    "#Todas las alternativas de pre-procesamiento con pipelines \n",
    "\n",
    "##1er paso: filtras qué variables vamos a considerar en el modelo\n",
    "variables_num=[\"Age\", \"AnnualIncome\"]\n",
    "#variables_cat=[\"Employment Type\", \"GraduateOrNot\", \"FamilyMembers\", \"FrequentFlyer\", \"EverTravelledAbroad\",\"ChronicDiseases\"]\n",
    "variables_cat=[\"Employment Type\", \"FamilyMembers\", \"FrequentFlyer\", \"EverTravelledAbroad\"]\n",
    "\n",
    "##reduce el dataset en función de las columnas seleccionadas\n",
    "Xtrain=X_train_[variables_num+variables_cat]\n",
    "Xval=X_val[variables_num+variables_cat]\n",
    "\n",
    "##2do paso: programa las transformaciones según tipo de variable\n",
    "transf_num=Pipeline([('select_num_columns', SelectColumnsTransformer(variables_num)),\n",
    "                    ('kbins_discretizer', KBinsDiscretizer(n_bins=5, encode=\"ordinal\", strategy=\"quantile\")),\n",
    "                   #  (\"standard_scaler\", StandardScaler()),\n",
    "                   #  (\"min_max_scaler\", MinMaxScaler())\n",
    "                    ])\n",
    "\n",
    "transf_cat=Pipeline([('select_cat_columns', SelectColumnsTransformer(variables_cat)),\n",
    "                    ('one_hot_enc', OneHotEncoder(categories=\"auto\", dtype=\"int\", handle_unknown=\"ignore\"))      \n",
    "                    ])\n",
    "\n",
    "pipeline_transformer = ColumnTransformer([('num', transf_num, variables_num),\n",
    "                                        ('cat', transf_cat, variables_cat)\n",
    "                                        ])\n",
    "\n",
    "##3er paso: ejecuta la transformación de manera conjunta\n",
    "train = pipeline_transformer.fit_transform(Xtrain)\n",
    "val = pipeline_transformer.fit_transform(Xval)"
   ]
  },
  {
   "cell_type": "code",
   "execution_count": 43,
   "metadata": {},
   "outputs": [
    {
     "data": {
      "text/plain": [
       "DecisionTreeClassifier(ccp_alpha=0.0, class_weight=None, criterion='entropy',\n",
       "                       max_depth=10, max_features=None, max_leaf_nodes=None,\n",
       "                       min_impurity_decrease=0.0, min_impurity_split=None,\n",
       "                       min_samples_leaf=5, min_samples_split=2,\n",
       "                       min_weight_fraction_leaf=0.0, presort='deprecated',\n",
       "                       random_state=42, splitter='best')"
      ]
     },
     "execution_count": 43,
     "metadata": {},
     "output_type": "execute_result"
    }
   ],
   "source": [
    "tree_baseline_ = DecisionTreeClassifier(criterion=\"entropy\", max_depth= 10, min_samples_leaf= 5, random_state=42)\n",
    "tree_baseline_.fit(train, y_train_)"
   ]
  },
  {
   "cell_type": "code",
   "execution_count": 44,
   "metadata": {},
   "outputs": [
    {
     "name": "stdout",
     "output_type": "stream",
     "text": [
      "MÉTRICAS CONJUNTO DE TRAIN\n",
      "              precision    recall  f1-score   support\n",
      "\n",
      "           0       0.82      0.95      0.88       758\n",
      "           1       0.88      0.63      0.74       434\n",
      "\n",
      "    accuracy                           0.84      1192\n",
      "   macro avg       0.85      0.79      0.81      1192\n",
      "weighted avg       0.84      0.84      0.83      1192\n",
      "\n",
      "MÉTRICAS CONJUNTO DE VALIDACIÓN\n",
      "              precision    recall  f1-score   support\n",
      "\n",
      "           0       0.79      0.93      0.85       200\n",
      "           1       0.77      0.51      0.61        98\n",
      "\n",
      "    accuracy                           0.79       298\n",
      "   macro avg       0.78      0.72      0.73       298\n",
      "weighted avg       0.79      0.79      0.78       298\n",
      "\n"
     ]
    }
   ],
   "source": [
    "print(\"MÉTRICAS CONJUNTO DE TRAIN\")\n",
    "print(classification_report(y_train_, tree_baseline_.predict(train)))\n",
    "print(\"MÉTRICAS CONJUNTO DE VALIDACIÓN\")\n",
    "print(classification_report(y_val, tree_baseline_.predict(val)))"
   ]
  },
  {
   "cell_type": "markdown",
   "metadata": {},
   "source": [
    "Eliminando del modelo dos variables que no serían muy necesarias, los resultados se mantienen relativamente iguales"
   ]
  },
  {
   "cell_type": "markdown",
   "metadata": {},
   "source": [
    "**Modelo SGD**"
   ]
  },
  {
   "cell_type": "markdown",
   "metadata": {},
   "source": [
    "El modelo SGD Clasifier requiere que los variables numéricas estén estandarizadas, modifico el pipeline numérico en función de eso."
   ]
  },
  {
   "cell_type": "code",
   "execution_count": 37,
   "metadata": {},
   "outputs": [],
   "source": [
    "#Todas las alternativas de pre-procesamiento con pipelines \n",
    "\n",
    "##1er paso: filtras qué variables vamos a considerar en el modelo\n",
    "variables_num=[\"Age\", \"AnnualIncome\"]\n",
    "variables_cat=[\"Employment Type\", \"GraduateOrNot\", \"FamilyMembers\", \"FrequentFlyer\", \"EverTravelledAbroad\",\"ChronicDiseases\"]\n",
    "#variables_cat=[\"Employment Type\", \"FamilyMembers\", \"FrequentFlyer\", \"EverTravelledAbroad\"]\n",
    "\n",
    "##reduce el dataset en función de las columnas seleccionadas\n",
    "Xtrain=X_train_[variables_num+variables_cat]\n",
    "Xval=X_val[variables_num+variables_cat]\n",
    "\n",
    "##2do paso: programa las transformaciones según tipo de variable\n",
    "transf_num=Pipeline([('select_num_columns', SelectColumnsTransformer(variables_num)),\n",
    "                   # ('kbins_discretizer', KBinsDiscretizer(n_bins=5, encode=\"ordinal\", strategy=\"quantile\")),\n",
    "                     (\"standard_scaler\", StandardScaler()),\n",
    "                   #  (\"min_max_scaler\", MinMaxScaler())\n",
    "                    ])\n",
    "\n",
    "transf_cat=Pipeline([('select_cat_columns', SelectColumnsTransformer(variables_cat)),\n",
    "                    ('one_hot_enc', OneHotEncoder(categories=\"auto\", dtype=\"int\", handle_unknown=\"ignore\"))      \n",
    "                    ])\n",
    "\n",
    "pipeline_transformer = ColumnTransformer([('num', transf_num, variables_num),\n",
    "                                        ('cat', transf_cat, variables_cat)\n",
    "                                        ])\n",
    "\n",
    "##3er paso: ejecuta la transformación de manera conjunta\n",
    "train = pipeline_transformer.fit_transform(Xtrain)\n",
    "val = pipeline_transformer.fit_transform(Xval)"
   ]
  },
  {
   "cell_type": "code",
   "execution_count": 40,
   "metadata": {},
   "outputs": [
    {
     "data": {
      "text/plain": [
       "SGDClassifier(alpha=0.0001, average=False, class_weight=None,\n",
       "              early_stopping=False, epsilon=0.1, eta0=0.0, fit_intercept=True,\n",
       "              l1_ratio=0.15, learning_rate='optimal', loss='hinge',\n",
       "              max_iter=1000, n_iter_no_change=5, n_jobs=None, penalty='l2',\n",
       "              power_t=0.5, random_state=42, shuffle=True, tol=0.001,\n",
       "              validation_fraction=0.1, verbose=0, warm_start=False)"
      ]
     },
     "execution_count": 40,
     "metadata": {},
     "output_type": "execute_result"
    }
   ],
   "source": [
    "#Entrenamiento de la versión más sencilla del modelo, con parámetros por default\n",
    "sgd = SGDClassifier(random_state=42)\n",
    "sgd.fit(train, y_train_)"
   ]
  },
  {
   "cell_type": "code",
   "execution_count": 41,
   "metadata": {},
   "outputs": [
    {
     "name": "stdout",
     "output_type": "stream",
     "text": [
      "MÉTRICAS CONJUNTO DE TRAIN\n",
      "              precision    recall  f1-score   support\n",
      "\n",
      "           0       0.76      0.92      0.83       774\n",
      "           1       0.75      0.47      0.58       418\n",
      "\n",
      "    accuracy                           0.76      1192\n",
      "   macro avg       0.76      0.69      0.71      1192\n",
      "weighted avg       0.76      0.76      0.74      1192\n",
      "\n",
      "MÉTRICAS CONJUNTO DE VALIDACIÓN\n",
      "              precision    recall  f1-score   support\n",
      "\n",
      "           0       0.73      0.92      0.81       184\n",
      "           1       0.77      0.44      0.56       114\n",
      "\n",
      "    accuracy                           0.73       298\n",
      "   macro avg       0.75      0.68      0.68       298\n",
      "weighted avg       0.74      0.73      0.71       298\n",
      "\n"
     ]
    }
   ],
   "source": [
    "print(\"MÉTRICAS CONJUNTO DE TRAIN\")\n",
    "print(classification_report(y_train_, sgd.predict(train)))\n",
    "print(\"MÉTRICAS CONJUNTO DE VALIDACIÓN\")\n",
    "print(classification_report(y_val, sgd.predict(val)))"
   ]
  },
  {
   "cell_type": "markdown",
   "metadata": {},
   "source": [
    "No pareciera estar ofreciendo mejores resultados que el Árbol de Decisión. Vamos a probar optimizando los hiperparámetros, haciendo un GridSearchCV."
   ]
  },
  {
   "cell_type": "code",
   "execution_count": 62,
   "metadata": {},
   "outputs": [],
   "source": [
    "#Grilla de parámetros\n",
    "params={'loss':['hinge', 'log', 'modified_huber', 'squared_hinge', 'perceptron'],\n",
    "        'alpha':[0.0001, 0.001, 0.01, 0.1, 1, 10, 100],\n",
    "        'penalty':['l1','l2','elasticnet'],\n",
    "      # 'learning_rate':['constant', 'optimal', 'invscaling', 'adaptive']\n",
    "       }\n",
    "\n",
    "sgd_= SGDClassifier(random_state=42)"
   ]
  },
  {
   "cell_type": "code",
   "execution_count": 63,
   "metadata": {},
   "outputs": [
    {
     "data": {
      "text/plain": [
       "GridSearchCV(cv=5, error_score=nan,\n",
       "             estimator=SGDClassifier(alpha=0.0001, average=False,\n",
       "                                     class_weight=None, early_stopping=False,\n",
       "                                     epsilon=0.1, eta0=0.0, fit_intercept=True,\n",
       "                                     l1_ratio=0.15, learning_rate='optimal',\n",
       "                                     loss='hinge', max_iter=1000,\n",
       "                                     n_iter_no_change=5, n_jobs=None,\n",
       "                                     penalty='l2', power_t=0.5, random_state=42,\n",
       "                                     shuffle=True, tol=0.001,\n",
       "                                     validation_fraction=0.1, verbose=0,\n",
       "                                     warm_start=False),\n",
       "             iid='deprecated', n_jobs=-1,\n",
       "             param_grid={'alpha': [0.0001, 0.001, 0.01, 0.1, 1, 10, 100],\n",
       "                         'loss': ['hinge', 'log', 'modified_huber',\n",
       "                                  'squared_hinge', 'perceptron'],\n",
       "                         'penalty': ['l1', 'l2', 'elasticnet']},\n",
       "             pre_dispatch='2*n_jobs', refit=True, return_train_score=False,\n",
       "             scoring='f1', verbose=0)"
      ]
     },
     "execution_count": 63,
     "metadata": {},
     "output_type": "execute_result"
    }
   ],
   "source": [
    "#Búsqueda de parámetros\n",
    "cv_sgd = GridSearchCV(sgd_, params, scoring='f1', cv=5,refit=True,n_jobs=-1)     \n",
    "cv_sgd.fit(train, y_train_)"
   ]
  },
  {
   "cell_type": "code",
   "execution_count": 64,
   "metadata": {},
   "outputs": [
    {
     "data": {
      "text/plain": [
       "SGDClassifier(alpha=0.001, average=False, class_weight=None,\n",
       "              early_stopping=False, epsilon=0.1, eta0=0.0, fit_intercept=True,\n",
       "              l1_ratio=0.15, learning_rate='optimal', loss='log', max_iter=1000,\n",
       "              n_iter_no_change=5, n_jobs=None, penalty='elasticnet',\n",
       "              power_t=0.5, random_state=42, shuffle=True, tol=0.001,\n",
       "              validation_fraction=0.1, verbose=0, warm_start=False)"
      ]
     },
     "execution_count": 64,
     "metadata": {},
     "output_type": "execute_result"
    }
   ],
   "source": [
    "cv_sgd.best_estimator_"
   ]
  },
  {
   "cell_type": "code",
   "execution_count": 65,
   "metadata": {},
   "outputs": [
    {
     "data": {
      "text/plain": [
       "{'alpha': 0.001, 'loss': 'log', 'penalty': 'elasticnet'}"
      ]
     },
     "execution_count": 65,
     "metadata": {},
     "output_type": "execute_result"
    }
   ],
   "source": [
    "cv_sgd.best_params_"
   ]
  },
  {
   "cell_type": "code",
   "execution_count": 66,
   "metadata": {},
   "outputs": [
    {
     "data": {
      "text/plain": [
       "SGDClassifier(alpha=0.001, average=False, class_weight=None,\n",
       "              early_stopping=False, epsilon=0.1, eta0=0.0, fit_intercept=True,\n",
       "              l1_ratio=0.15, learning_rate='optimal', loss='log', max_iter=1000,\n",
       "              n_iter_no_change=5, n_jobs=None, penalty='elasticnet',\n",
       "              power_t=0.5, random_state=42, shuffle=True, tol=0.001,\n",
       "              validation_fraction=0.1, verbose=0, warm_start=False)"
      ]
     },
     "execution_count": 66,
     "metadata": {},
     "output_type": "execute_result"
    }
   ],
   "source": [
    "#Entrenamiento de la mejor versión encontrada del modelo\n",
    "sgd = SGDClassifier(random_state=42,alpha=0.001, loss='log', penalty='elasticnet' )\n",
    "sgd.fit(train, y_train_)"
   ]
  },
  {
   "cell_type": "code",
   "execution_count": 67,
   "metadata": {},
   "outputs": [
    {
     "name": "stdout",
     "output_type": "stream",
     "text": [
      "MÉTRICAS CONJUNTO DE TRAIN\n",
      "              precision    recall  f1-score   support\n",
      "\n",
      "           0       0.76      0.94      0.84       774\n",
      "           1       0.80      0.46      0.59       418\n",
      "\n",
      "    accuracy                           0.77      1192\n",
      "   macro avg       0.78      0.70      0.71      1192\n",
      "weighted avg       0.77      0.77      0.75      1192\n",
      "\n",
      "MÉTRICAS CONJUNTO DE VALIDACIÓN\n",
      "              precision    recall  f1-score   support\n",
      "\n",
      "           0       0.74      0.95      0.83       184\n",
      "           1       0.85      0.45      0.59       114\n",
      "\n",
      "    accuracy                           0.76       298\n",
      "   macro avg       0.79      0.70      0.71       298\n",
      "weighted avg       0.78      0.76      0.74       298\n",
      "\n"
     ]
    }
   ],
   "source": [
    "print(\"MÉTRICAS CONJUNTO DE TRAIN\")\n",
    "print(classification_report(y_train_, sgd.predict(train)))\n",
    "print(\"MÉTRICAS CONJUNTO DE VALIDACIÓN\")\n",
    "print(classification_report(y_val, sgd.predict(val)))"
   ]
  },
  {
   "cell_type": "markdown",
   "metadata": {},
   "source": [
    "La mejor opción de este modelo, encontrada por medio del GridSearchCV mejora las predicciones sobre el conjunto de validación en relación al modelo con parámetros por default pero continúa sin ser una mejor alternativa que el Árbol de Decisión."
   ]
  },
  {
   "cell_type": "markdown",
   "metadata": {},
   "source": [
    "**Modelo Random Forest Classifier**"
   ]
  },
  {
   "cell_type": "markdown",
   "metadata": {},
   "source": [
    "Voy a hacer el primer entrenamiento de este modelo, en su versión más simple, con las variables preprocesadas del mismo modo que en el modelo tomado como baseline"
   ]
  },
  {
   "cell_type": "code",
   "execution_count": 48,
   "metadata": {},
   "outputs": [],
   "source": [
    "#Todas las alternativas de pre-procesamiento con pipelines \n",
    "\n",
    "##1er paso: filtras qué variables vamos a considerar en el modelo\n",
    "#variables_num=[\"Age\", \"AnnualIncome\"]\n",
    "variables_num=[\"Age\", \"AnnualIncome\", \"FamilyMembers\"]\n",
    "#variables_cat=[\"Employment Type\", \"GraduateOrNot\", \"FamilyMembers\", \"FrequentFlyer\", \"EverTravelledAbroad\",\"ChronicDiseases\"]\n",
    "variables_cat=[\"Employment Type\", \"GraduateOrNot\", \"FrequentFlyer\", \"EverTravelledAbroad\",\"ChronicDiseases\"]\n",
    "#variables_cat=[\"Employment Type\", \"FamilyMembers\", \"FrequentFlyer\", \"EverTravelledAbroad\"]\n",
    "\n",
    "##reduce el dataset en función de las columnas seleccionadas\n",
    "Xtrain=X_train_[variables_num+variables_cat]\n",
    "Xval=X_val[variables_num+variables_cat]\n",
    "\n",
    "##2do paso: programa las transformaciones según tipo de variable\n",
    "transf_num=Pipeline([('select_num_columns', SelectColumnsTransformer(variables_num)),\n",
    "                    ('kbins_discretizer', KBinsDiscretizer(n_bins=4, encode=\"ordinal\", strategy=\"quantile\")),\n",
    "                   #  (\"standard_scaler\", StandardScaler()),\n",
    "                   #  (\"min_max_scaler\", MinMaxScaler())\n",
    "                    ])\n",
    "\n",
    "transf_cat=Pipeline([('select_cat_columns', SelectColumnsTransformer(variables_cat)),\n",
    "                    ('one_hot_enc', OneHotEncoder(categories=\"auto\", dtype=\"int\", handle_unknown=\"ignore\"))      \n",
    "                    ])\n",
    "\n",
    "pipeline_transformer = ColumnTransformer([('num', transf_num, variables_num),\n",
    "                                        ('cat', transf_cat, variables_cat)\n",
    "                                        ])\n",
    "\n",
    "##3er paso: ejecuta la transformación de manera conjunta\n",
    "train = pipeline_transformer.fit_transform(Xtrain)\n",
    "val = pipeline_transformer.fit_transform(Xval)"
   ]
  },
  {
   "cell_type": "code",
   "execution_count": 49,
   "metadata": {},
   "outputs": [
    {
     "data": {
      "text/plain": [
       "RandomForestClassifier(bootstrap=True, ccp_alpha=0.0, class_weight=None,\n",
       "                       criterion='gini', max_depth=None, max_features='auto',\n",
       "                       max_leaf_nodes=None, max_samples=None,\n",
       "                       min_impurity_decrease=0.0, min_impurity_split=None,\n",
       "                       min_samples_leaf=1, min_samples_split=2,\n",
       "                       min_weight_fraction_leaf=0.0, n_estimators=10,\n",
       "                       n_jobs=None, oob_score=False, random_state=42, verbose=0,\n",
       "                       warm_start=False)"
      ]
     },
     "execution_count": 49,
     "metadata": {},
     "output_type": "execute_result"
    }
   ],
   "source": [
    "rfc = RandomForestClassifier(n_estimators=10, random_state=42)\n",
    "rfc.fit(train, y_train_)"
   ]
  },
  {
   "cell_type": "code",
   "execution_count": 50,
   "metadata": {},
   "outputs": [
    {
     "name": "stdout",
     "output_type": "stream",
     "text": [
      "MÉTRICAS CONJUNTO DE TRAIN\n",
      "              precision    recall  f1-score   support\n",
      "\n",
      "           0       0.85      0.94      0.90       758\n",
      "           1       0.88      0.71      0.79       434\n",
      "\n",
      "    accuracy                           0.86      1192\n",
      "   macro avg       0.87      0.83      0.84      1192\n",
      "weighted avg       0.86      0.86      0.86      1192\n",
      "\n",
      "MÉTRICAS CONJUNTO DE VALIDACIÓN\n",
      "              precision    recall  f1-score   support\n",
      "\n",
      "           0       0.81      0.86      0.84       200\n",
      "           1       0.68      0.58      0.63        98\n",
      "\n",
      "    accuracy                           0.77       298\n",
      "   macro avg       0.74      0.72      0.73       298\n",
      "weighted avg       0.77      0.77      0.77       298\n",
      "\n"
     ]
    }
   ],
   "source": [
    "print(\"MÉTRICAS CONJUNTO DE TRAIN\")\n",
    "print(classification_report(y_train_, rfc.predict(train)))\n",
    "print(\"MÉTRICAS CONJUNTO DE VALIDACIÓN\")\n",
    "print(classification_report(y_val, rfc.predict(val)))"
   ]
  },
  {
   "cell_type": "markdown",
   "metadata": {},
   "source": [
    " Vamos a probar optimizando los hiperparámetros, haciendo un GridSearchCV."
   ]
  },
  {
   "cell_type": "code",
   "execution_count": 51,
   "metadata": {},
   "outputs": [],
   "source": [
    "#Grilla de parámetros\n",
    "params={'n_estimators':[4, 6, 8 , 10 , 12],\n",
    "        'criterion':['gini','entropy'],\n",
    "        'max_depth':[6, 8, 10, 12],\n",
    "        'min_samples_leaf':[2, 4, 5, 8],\n",
    "       }\n",
    "\n",
    "rfc_= RandomForestClassifier(random_state=42)"
   ]
  },
  {
   "cell_type": "code",
   "execution_count": 52,
   "metadata": {},
   "outputs": [
    {
     "data": {
      "text/plain": [
       "GridSearchCV(cv=5, error_score=nan,\n",
       "             estimator=RandomForestClassifier(bootstrap=True, ccp_alpha=0.0,\n",
       "                                              class_weight=None,\n",
       "                                              criterion='gini', max_depth=None,\n",
       "                                              max_features='auto',\n",
       "                                              max_leaf_nodes=None,\n",
       "                                              max_samples=None,\n",
       "                                              min_impurity_decrease=0.0,\n",
       "                                              min_impurity_split=None,\n",
       "                                              min_samples_leaf=1,\n",
       "                                              min_samples_split=2,\n",
       "                                              min_weight_fraction_leaf=0.0,\n",
       "                                              n_estimators=100, n_jobs=None,\n",
       "                                              oob_score=False, random_state=42,\n",
       "                                              verbose=0, warm_start=False),\n",
       "             iid='deprecated', n_jobs=-1,\n",
       "             param_grid={'criterion': ['gini', 'entropy'],\n",
       "                         'max_depth': [6, 8, 10, 12],\n",
       "                         'min_samples_leaf': [2, 4, 5, 8],\n",
       "                         'n_estimators': [4, 6, 8, 10, 12]},\n",
       "             pre_dispatch='2*n_jobs', refit=True, return_train_score=False,\n",
       "             scoring='f1', verbose=0)"
      ]
     },
     "execution_count": 52,
     "metadata": {},
     "output_type": "execute_result"
    }
   ],
   "source": [
    "#Búsqueda de parámetros\n",
    "cv_rfc = GridSearchCV(rfc_, params, scoring='f1', cv=5,refit=True,n_jobs=-1)     \n",
    "cv_rfc.fit(train, y_train_)"
   ]
  },
  {
   "cell_type": "code",
   "execution_count": 53,
   "metadata": {},
   "outputs": [
    {
     "data": {
      "text/plain": [
       "RandomForestClassifier(bootstrap=True, ccp_alpha=0.0, class_weight=None,\n",
       "                       criterion='gini', max_depth=8, max_features='auto',\n",
       "                       max_leaf_nodes=None, max_samples=None,\n",
       "                       min_impurity_decrease=0.0, min_impurity_split=None,\n",
       "                       min_samples_leaf=5, min_samples_split=2,\n",
       "                       min_weight_fraction_leaf=0.0, n_estimators=10,\n",
       "                       n_jobs=None, oob_score=False, random_state=42, verbose=0,\n",
       "                       warm_start=False)"
      ]
     },
     "execution_count": 53,
     "metadata": {},
     "output_type": "execute_result"
    }
   ],
   "source": [
    "cv_rfc.best_estimator_"
   ]
  },
  {
   "cell_type": "code",
   "execution_count": 54,
   "metadata": {},
   "outputs": [
    {
     "data": {
      "text/plain": [
       "{'criterion': 'gini',\n",
       " 'max_depth': 8,\n",
       " 'min_samples_leaf': 5,\n",
       " 'n_estimators': 10}"
      ]
     },
     "execution_count": 54,
     "metadata": {},
     "output_type": "execute_result"
    }
   ],
   "source": [
    "cv_rfc.best_params_"
   ]
  },
  {
   "cell_type": "code",
   "execution_count": 55,
   "metadata": {},
   "outputs": [
    {
     "data": {
      "text/plain": [
       "RandomForestClassifier(bootstrap=True, ccp_alpha=0.0, class_weight=None,\n",
       "                       criterion='gini', max_depth=8, max_features='auto',\n",
       "                       max_leaf_nodes=None, max_samples=None,\n",
       "                       min_impurity_decrease=0.0, min_impurity_split=None,\n",
       "                       min_samples_leaf=5, min_samples_split=2,\n",
       "                       min_weight_fraction_leaf=0.0, n_estimators=10,\n",
       "                       n_jobs=None, oob_score=False, random_state=42, verbose=0,\n",
       "                       warm_start=False)"
      ]
     },
     "execution_count": 55,
     "metadata": {},
     "output_type": "execute_result"
    }
   ],
   "source": [
    "#Entrenamiento de la mejor versión encontrada del modelo\n",
    "rfc = RandomForestClassifier(n_estimators=10, criterion='gini', max_depth= 8, min_samples_leaf= 5, random_state=42)\n",
    "rfc.fit(train, y_train_)"
   ]
  },
  {
   "cell_type": "code",
   "execution_count": 56,
   "metadata": {},
   "outputs": [
    {
     "name": "stdout",
     "output_type": "stream",
     "text": [
      "MÉTRICAS CONJUNTO DE TRAIN\n",
      "              precision    recall  f1-score   support\n",
      "\n",
      "           0       0.79      0.96      0.86       758\n",
      "           1       0.88      0.56      0.68       434\n",
      "\n",
      "    accuracy                           0.81      1192\n",
      "   macro avg       0.83      0.76      0.77      1192\n",
      "weighted avg       0.82      0.81      0.80      1192\n",
      "\n",
      "MÉTRICAS CONJUNTO DE VALIDACIÓN\n",
      "              precision    recall  f1-score   support\n",
      "\n",
      "           0       0.80      0.95      0.87       200\n",
      "           1       0.84      0.52      0.64        98\n",
      "\n",
      "    accuracy                           0.81       298\n",
      "   macro avg       0.82      0.74      0.76       298\n",
      "weighted avg       0.81      0.81      0.79       298\n",
      "\n"
     ]
    }
   ],
   "source": [
    "print(\"MÉTRICAS CONJUNTO DE TRAIN\")\n",
    "print(classification_report(y_train_, rfc.predict(train)))\n",
    "print(\"MÉTRICAS CONJUNTO DE VALIDACIÓN\")\n",
    "print(classification_report(y_val, rfc.predict(val)))"
   ]
  },
  {
   "cell_type": "markdown",
   "metadata": {},
   "source": [
    "**Modelo XGBOOST**"
   ]
  },
  {
   "cell_type": "code",
   "execution_count": 80,
   "metadata": {},
   "outputs": [],
   "source": [
    "#Todas las alternativas de pre-procesamiento con pipelines \n",
    "\n",
    "##1er paso: filtras qué variables vamos a considerar en el modelo\n",
    "variables_num=[\"Age\", \"AnnualIncome\", \"FamilyMembers\"]\n",
    "variables_cat=[\"Employment Type\", \"GraduateOrNot\", \"FrequentFlyer\", \"EverTravelledAbroad\",\"ChronicDiseases\"]\n",
    "#variables_cat=[\"Employment Type\", \"FamilyMembers\", \"FrequentFlyer\", \"EverTravelledAbroad\"]\n",
    "\n",
    "##reduce el dataset en función de las columnas seleccionadas\n",
    "Xtrain=X_train_[variables_num+variables_cat]\n",
    "Xval=X_val[variables_num+variables_cat]\n",
    "\n",
    "##2do paso: programa las transformaciones según tipo de variable\n",
    "transf_num=Pipeline([('select_num_columns', SelectColumnsTransformer(variables_num)),\n",
    "                    ('kbins_discretizer', KBinsDiscretizer(n_bins=4, encode=\"ordinal\", strategy=\"quantile\")),\n",
    "                   #  (\"standard_scaler\", StandardScaler()),\n",
    "                   #  (\"min_max_scaler\", MinMaxScaler())\n",
    "                    ])\n",
    "\n",
    "transf_cat=Pipeline([('select_cat_columns', SelectColumnsTransformer(variables_cat)),\n",
    "                    ('one_hot_enc', OneHotEncoder(categories=\"auto\", dtype=\"int\", handle_unknown=\"ignore\"))      \n",
    "                    ])\n",
    "\n",
    "pipeline_transformer = ColumnTransformer([('num', transf_num, variables_num),\n",
    "                                        ('cat', transf_cat, variables_cat)\n",
    "                                        ])\n",
    "\n",
    "##3er paso: ejecuta la transformación de manera conjunta\n",
    "train = pipeline_transformer.fit_transform(Xtrain)\n",
    "val = pipeline_transformer.transform(Xval)"
   ]
  },
  {
   "cell_type": "code",
   "execution_count": 60,
   "metadata": {},
   "outputs": [],
   "source": [
    "import xgboost as xgb"
   ]
  },
  {
   "cell_type": "code",
   "execution_count": 61,
   "metadata": {},
   "outputs": [
    {
     "data": {
      "text/plain": [
       "XGBClassifier(base_score=0.5, booster='gbtree', colsample_bylevel=1,\n",
       "              colsample_bynode=1, colsample_bytree=1, gamma=0, gpu_id=-1,\n",
       "              importance_type='gain', interaction_constraints='',\n",
       "              learning_rate=0.300000012, max_delta_step=0, max_depth=6,\n",
       "              min_child_weight=1, missing=nan, monotone_constraints='()',\n",
       "              n_estimators=100, n_jobs=4, num_parallel_tree=1,\n",
       "              objective='binary:logistic', random_state=42, reg_alpha=0,\n",
       "              reg_lambda=1, scale_pos_weight=1, seed=42, subsample=1,\n",
       "              tree_method='exact', use_label_encoder=True,\n",
       "              validate_parameters=1, verbosity=None)"
      ]
     },
     "execution_count": 61,
     "metadata": {},
     "output_type": "execute_result"
    }
   ],
   "source": [
    "xg = xgb.XGBClassifier(seed=42)\n",
    "xg.fit(train, y_train_)"
   ]
  },
  {
   "cell_type": "code",
   "execution_count": 62,
   "metadata": {},
   "outputs": [
    {
     "name": "stdout",
     "output_type": "stream",
     "text": [
      "MÉTRICAS CONJUNTO DE TRAIN\n",
      "              precision    recall  f1-score   support\n",
      "\n",
      "           0       0.84      0.96      0.89       758\n",
      "           1       0.90      0.69      0.78       434\n",
      "\n",
      "    accuracy                           0.86      1192\n",
      "   macro avg       0.87      0.82      0.84      1192\n",
      "weighted avg       0.86      0.86      0.85      1192\n",
      "\n",
      "MÉTRICAS CONJUNTO DE VALIDACIÓN\n",
      "              precision    recall  f1-score   support\n",
      "\n",
      "           0       0.80      0.88      0.83       200\n",
      "           1       0.68      0.54      0.60        98\n",
      "\n",
      "    accuracy                           0.77       298\n",
      "   macro avg       0.74      0.71      0.72       298\n",
      "weighted avg       0.76      0.77      0.76       298\n",
      "\n"
     ]
    }
   ],
   "source": [
    "print(\"MÉTRICAS CONJUNTO DE TRAIN\")\n",
    "print(classification_report(y_train_, xg.predict(train)))\n",
    "print(\"MÉTRICAS CONJUNTO DE VALIDACIÓN\")\n",
    "print(classification_report(y_val, xg.predict(val)))"
   ]
  },
  {
   "cell_type": "markdown",
   "metadata": {},
   "source": [
    "Vamos a probar optimizando los hiperparámetros, haciendo un GridSearchCV."
   ]
  },
  {
   "cell_type": "code",
   "execution_count": 63,
   "metadata": {},
   "outputs": [],
   "source": [
    "#Grilla de parámetros\n",
    "params={'objective':[\"reg:squarederror\", \"reg:squaredlogerror\", \"reg:logistic\" , \"reg:pseudohubererror\" , \"binary:logistic\",\"binary:hinge\"],\n",
    "        'learning_rate':[0.05, 0.1,0.2,0.3],\n",
    "        'max_depth':[2,4,5, 6, 7, 8, 9],\n",
    "        'alpha':[2, 3, 5, 7, 8, 10],\n",
    "        \"n_estimators\":[5, 7, 10]\n",
    "       }\n",
    "\n",
    "xg_= xgb.XGBClassifier(seed=42)"
   ]
  },
  {
   "cell_type": "code",
   "execution_count": 64,
   "metadata": {},
   "outputs": [
    {
     "data": {
      "text/plain": [
       "GridSearchCV(cv=5, error_score=nan,\n",
       "             estimator=XGBClassifier(base_score=None, booster=None,\n",
       "                                     colsample_bylevel=None,\n",
       "                                     colsample_bynode=None,\n",
       "                                     colsample_bytree=None, gamma=None,\n",
       "                                     gpu_id=None, importance_type='gain',\n",
       "                                     interaction_constraints=None,\n",
       "                                     learning_rate=None, max_delta_step=None,\n",
       "                                     max_depth=None, min_child_weight=None,\n",
       "                                     missing=nan, monotone_constraints=None,\n",
       "                                     n_estim...\n",
       "             iid='deprecated', n_jobs=-1,\n",
       "             param_grid={'alpha': [2, 3, 5, 7, 8, 10],\n",
       "                         'learning_rate': [0.05, 0.1, 0.2, 0.3],\n",
       "                         'max_depth': [2, 4, 5, 6, 7, 8, 9],\n",
       "                         'n_estimators': [5, 7, 10],\n",
       "                         'objective': ['reg:squarederror',\n",
       "                                       'reg:squaredlogerror', 'reg:logistic',\n",
       "                                       'reg:pseudohubererror',\n",
       "                                       'binary:logistic', 'binary:hinge']},\n",
       "             pre_dispatch='2*n_jobs', refit=True, return_train_score=False,\n",
       "             scoring='f1', verbose=0)"
      ]
     },
     "execution_count": 64,
     "metadata": {},
     "output_type": "execute_result"
    }
   ],
   "source": [
    "#Búsqueda de parámetros\n",
    "cv_xg = GridSearchCV(xg_, params, scoring='f1', cv=5,refit=True,n_jobs=-1)     \n",
    "cv_xg.fit(train, y_train_)"
   ]
  },
  {
   "cell_type": "code",
   "execution_count": 65,
   "metadata": {},
   "outputs": [
    {
     "data": {
      "text/plain": [
       "XGBClassifier(alpha=5, base_score=0.5, booster='gbtree', colsample_bylevel=1,\n",
       "              colsample_bynode=1, colsample_bytree=1, gamma=0, gpu_id=-1,\n",
       "              importance_type='gain', interaction_constraints='',\n",
       "              learning_rate=0.3, max_delta_step=0, max_depth=4,\n",
       "              min_child_weight=1, missing=nan, monotone_constraints='()',\n",
       "              n_estimators=7, n_jobs=4, num_parallel_tree=1,\n",
       "              objective='binary:hinge', random_state=42, reg_alpha=5,\n",
       "              reg_lambda=1, scale_pos_weight=None, seed=42, subsample=1,\n",
       "              tree_method='exact', use_label_encoder=True,\n",
       "              validate_parameters=1, verbosity=None)"
      ]
     },
     "execution_count": 65,
     "metadata": {},
     "output_type": "execute_result"
    }
   ],
   "source": [
    "cv_xg.best_estimator_"
   ]
  },
  {
   "cell_type": "code",
   "execution_count": 66,
   "metadata": {},
   "outputs": [
    {
     "data": {
      "text/plain": [
       "{'alpha': 5,\n",
       " 'learning_rate': 0.3,\n",
       " 'max_depth': 4,\n",
       " 'n_estimators': 7,\n",
       " 'objective': 'binary:hinge'}"
      ]
     },
     "execution_count": 66,
     "metadata": {},
     "output_type": "execute_result"
    }
   ],
   "source": [
    "cv_xg.best_params_"
   ]
  },
  {
   "cell_type": "code",
   "execution_count": 69,
   "metadata": {},
   "outputs": [
    {
     "data": {
      "text/plain": [
       "XGBClassifier(alpha=5, base_score=0.5, booster='gbtree', colsample_bylevel=1,\n",
       "              colsample_bynode=1, colsample_bytree=1, gamma=0, gpu_id=-1,\n",
       "              importance_type='gain', interaction_constraints='',\n",
       "              learning_rate=0.3, max_delta_step=0, max_depth=4,\n",
       "              min_child_weight=1, missing=nan, monotone_constraints='()',\n",
       "              n_estimators=7, n_jobs=4, num_parallel_tree=1,\n",
       "              objective='binary:hinge', random_state=42, reg_alpha=5,\n",
       "              reg_lambda=1, scale_pos_weight=None, seed=42, subsample=1,\n",
       "              tree_method='exact', use_label_encoder=True,\n",
       "              validate_parameters=1, verbosity=None)"
      ]
     },
     "execution_count": 69,
     "metadata": {},
     "output_type": "execute_result"
    }
   ],
   "source": [
    "#Entrenamiento de la mejor versión encontrada del modelo\n",
    "xg = xgb.XGBClassifier(alpha=5, learning_rate=0.3, max_depth=4, objective='binary:hinge', n_estimators=7 ,seed=42)\n",
    "xg.fit(train, y_train_)"
   ]
  },
  {
   "cell_type": "code",
   "execution_count": 70,
   "metadata": {},
   "outputs": [
    {
     "name": "stdout",
     "output_type": "stream",
     "text": [
      "MÉTRICAS CONJUNTO DE TRAIN\n",
      "              precision    recall  f1-score   support\n",
      "\n",
      "           0       0.80      0.93      0.86       758\n",
      "           1       0.83      0.61      0.70       434\n",
      "\n",
      "    accuracy                           0.81      1192\n",
      "   macro avg       0.82      0.77      0.78      1192\n",
      "weighted avg       0.81      0.81      0.80      1192\n",
      "\n",
      "MÉTRICAS CONJUNTO DE VALIDACIÓN\n",
      "              precision    recall  f1-score   support\n",
      "\n",
      "           0       0.84      0.92      0.88       200\n",
      "           1       0.79      0.65      0.72        98\n",
      "\n",
      "    accuracy                           0.83       298\n",
      "   macro avg       0.82      0.78      0.80       298\n",
      "weighted avg       0.83      0.83      0.82       298\n",
      "\n"
     ]
    }
   ],
   "source": [
    "print(\"MÉTRICAS CONJUNTO DE TRAIN\")\n",
    "print(classification_report(y_train_, xg.predict(train)))\n",
    "print(\"MÉTRICAS CONJUNTO DE VALIDACIÓN\")\n",
    "print(classification_report(y_val, xg.predict(val)))"
   ]
  },
  {
   "cell_type": "code",
   "execution_count": 71,
   "metadata": {},
   "outputs": [
    {
     "data": {
      "text/plain": [
       "XGBClassifier(alpha=3, base_score=0.5, booster='gbtree', colsample_bylevel=1,\n",
       "              colsample_bynode=1, colsample_bytree=1, gamma=0, gpu_id=-1,\n",
       "              importance_type='gain', interaction_constraints='',\n",
       "              learning_rate=0.3, max_delta_step=0, max_depth=6,\n",
       "              min_child_weight=1, missing=nan, monotone_constraints='()',\n",
       "              n_estimators=7, n_jobs=4, num_parallel_tree=1,\n",
       "              objective='binary:hinge', random_state=42, reg_alpha=3,\n",
       "              reg_lambda=1, scale_pos_weight=None, seed=42, subsample=1,\n",
       "              tree_method='exact', use_label_encoder=True,\n",
       "              validate_parameters=1, verbosity=None)"
      ]
     },
     "execution_count": 71,
     "metadata": {},
     "output_type": "execute_result"
    }
   ],
   "source": [
    "#Entrenamiento de la otra especificación\n",
    "xg = xgb.XGBClassifier(alpha=3, learning_rate=0.3, max_depth=6, objective='binary:hinge', n_estimators=7 ,seed=42)\n",
    "xg.fit(train, y_train_)"
   ]
  },
  {
   "cell_type": "code",
   "execution_count": 72,
   "metadata": {},
   "outputs": [
    {
     "name": "stdout",
     "output_type": "stream",
     "text": [
      "MÉTRICAS CONJUNTO DE TRAIN\n",
      "              precision    recall  f1-score   support\n",
      "\n",
      "           0       0.81      0.94      0.87       758\n",
      "           1       0.85      0.61      0.71       434\n",
      "\n",
      "    accuracy                           0.82      1192\n",
      "   macro avg       0.83      0.77      0.79      1192\n",
      "weighted avg       0.82      0.82      0.81      1192\n",
      "\n",
      "MÉTRICAS CONJUNTO DE VALIDACIÓN\n",
      "              precision    recall  f1-score   support\n",
      "\n",
      "           0       0.84      0.94      0.88       200\n",
      "           1       0.83      0.63      0.72        98\n",
      "\n",
      "    accuracy                           0.84       298\n",
      "   macro avg       0.83      0.78      0.80       298\n",
      "weighted avg       0.83      0.84      0.83       298\n",
      "\n"
     ]
    }
   ],
   "source": [
    "print(\"MÉTRICAS CONJUNTO DE TRAIN\")\n",
    "print(classification_report(y_train_, xg.predict(train)))\n",
    "print(\"MÉTRICAS CONJUNTO DE VALIDACIÓN\")\n",
    "print(classification_report(y_val, xg.predict(val)))"
   ]
  },
  {
   "cell_type": "markdown",
   "metadata": {},
   "source": [
    "Este modelo encontrado da un mejor resultado que los previamente analizados."
   ]
  },
  {
   "cell_type": "markdown",
   "metadata": {},
   "source": [
    "### Para hacer una submission"
   ]
  },
  {
   "cell_type": "code",
   "execution_count": 81,
   "metadata": {},
   "outputs": [],
   "source": [
    "# The test data is only for generating the submission\n",
    "X_test = pipeline_transformer.transform(test_df.drop(columns=[\"Customer\"]))"
   ]
  },
  {
   "cell_type": "code",
   "execution_count": 83,
   "metadata": {},
   "outputs": [],
   "source": [
    "test_id = test_df[\"Customer\"]\n",
    "test_pred = xg.predict(X_test)\n",
    "\n",
    "submission = pd.DataFrame(list(zip(test_id, test_pred)), columns=[\"Customer\", \"TravelInsurance\"])\n",
    "submission.to_csv(\"../data/travel_insurance_submission_flo1.csv\", header=True, index=False)"
   ]
  },
  {
   "cell_type": "code",
   "execution_count": null,
   "metadata": {},
   "outputs": [],
   "source": []
  }
 ],
 "metadata": {
  "kernelspec": {
   "display_name": "Python 3",
   "language": "python",
   "name": "python3"
  },
  "language_info": {
   "codemirror_mode": {
    "name": "ipython",
    "version": 3
   },
   "file_extension": ".py",
   "mimetype": "text/x-python",
   "name": "python",
   "nbconvert_exporter": "python",
   "pygments_lexer": "ipython3",
   "version": "3.8.5"
  }
 },
 "nbformat": 4,
 "nbformat_minor": 4
}
